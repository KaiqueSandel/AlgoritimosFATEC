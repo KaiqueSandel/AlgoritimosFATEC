{
  "nbformat": 4,
  "nbformat_minor": 0,
  "metadata": {
    "colab": {
      "provenance": [],
      "include_colab_link": true
    },
    "kernelspec": {
      "name": "python3",
      "display_name": "Python 3"
    }
  },
  "cells": [
    {
      "cell_type": "markdown",
      "metadata": {
        "id": "view-in-github",
        "colab_type": "text"
      },
      "source": [
        "<a href=\"https://colab.research.google.com/github/KaiqueSandel/AlgoritimosFATEC/blob/main/AndresKaique_221_Est_DecN.ipynb\" target=\"_parent\"><img src=\"https://colab.research.google.com/assets/colab-badge.svg\" alt=\"Open In Colab\"/></a>"
      ]
    },
    {
      "cell_type": "markdown",
      "metadata": {
        "id": "I3ayCEJnHhtv"
      },
      "source": [
        "#Lista de exercícios de ESTRUTURA de DECISÃO\n",
        "#Fazer do 1 ao 25, o restante fica para estudos"
      ]
    },
    {
      "cell_type": "markdown",
      "metadata": {
        "id": "E64RcqHIMXAS"
      },
      "source": [
        "### 1.a) Faça um algoritmo que calcule e exiba o salário reajustado de um\n",
        "\n",
        "*   List item\n",
        "*   List item\n",
        "\n",
        "funcionário de acordo com a seguinte regra: Salário até 500, reajuste de 50%."
      ]
    },
    {
      "cell_type": "code",
      "metadata": {
        "id": "iepDUOyzHFPt",
        "colab": {
          "base_uri": "https://localhost:8080/"
        },
        "outputId": "1da7af2c-6e4d-44da-d675-1a000d0efb0d"
      },
      "source": [
        "salario = float(input('Informe o salário: '))\n",
        "if salario <= 500:\n",
        "    novo = salario + (salario * 50 / 100)\n",
        "    print('O salário reajustado é: ',novo)\n",
        "print('\\nTérmino do \\tprograma...') #esses comandos são por estética #SE é if e SENÃO é else SENÂO SE é elif"
      ],
      "execution_count": null,
      "outputs": [
        {
          "output_type": "stream",
          "name": "stdout",
          "text": [
            "Informe o salário: 220\n",
            "O salário reajustado é:  330.0\n",
            "\n",
            "Término do \tprograma...\n"
          ]
        }
      ]
    },
    {
      "cell_type": "markdown",
      "metadata": {
        "id": "OYoL34dGG0XC"
      },
      "source": [
        "###1.b) Faça um algoritmo que calcule e exiba o salário reajustado de um funcionário de acordo com a seguinte regra: Salário até 500, reajuste de 50%; Salários maiores que 500, reajuste de 30%."
      ]
    },
    {
      "cell_type": "code",
      "metadata": {
        "id": "uLE2w6-aMadI",
        "colab": {
          "base_uri": "https://localhost:8080/"
        },
        "outputId": "a3f98b6a-70c3-4843-bdff-acae1bc87941"
      },
      "source": [
        "salario = float(input('Informe o salário: '))\n",
        "if salario <= 500:\n",
        "    novo = salario + (salario * 50 / 100)\n",
        "    print('O salário reajustado é: ',novo)\n",
        "else:\n",
        "    novo = salario + (salario * 30 / 100)\n",
        "    print('Salário reajustado é: ' ,novo)\n",
        "print('\\nTérmino do \\tprograma...')"
      ],
      "execution_count": null,
      "outputs": [
        {
          "output_type": "stream",
          "name": "stdout",
          "text": [
            "Informe o salário: 899\n",
            "Salário reajustado é:  1168.7\n",
            "\n",
            "Término do \tprograma...\n"
          ]
        }
      ]
    },
    {
      "cell_type": "markdown",
      "metadata": {
        "id": "inPGbmBaMe3R"
      },
      "source": [
        "###2. Faça um algoritmo que leia o nome e a idade de uma pessoas, verifique se a idade de uma pessoa é menor ou maior de idade. Considera-se maior de idade uma pessoa com 18 anos ou mais. Como saída o algoritmo deve informar o nome e a idade da pessoa e depois uma mensagem se ela é ou não maior de idade.\n"
      ]
    },
    {
      "cell_type": "code",
      "metadata": {
        "id": "XxrUc9yWND8a",
        "colab": {
          "base_uri": "https://localhost:8080/"
        },
        "outputId": "37c9c7e2-d85e-4c72-c040-03bffe832d2d"
      },
      "source": [
        "nome = input('Digite seu nome aqui: ')\n",
        "idade = int(input('Digite sua idade: '))\n",
        "if idade >= 18:\n",
        "    print(f'Caro Sr.(a) {nome}, você tem {idade} anos de idade, portanto de acordo com a lei da maioridade você já é maior de idade')\n",
        "else:\n",
        "    print(f'Caro Sr.(a) {nome}, você tem {idade} anos de idade, portanto de acordo com a lei da maioridade você ainda não é maior de idade')\n"
      ],
      "execution_count": null,
      "outputs": [
        {
          "output_type": "stream",
          "name": "stdout",
          "text": [
            "Digite seu nome aqui: Andres\n",
            "Digite sua idade: 17\n",
            "Caro Sr.(a) Andres, você tem 17 anos de idade, portanto de acordo com a lei da maioridade você ainda não é maior de idade\n"
          ]
        }
      ]
    },
    {
      "cell_type": "markdown",
      "source": [
        "###3.a) Faça um algoritmo que leia duas notas de um aluno, calcule a média e verifique, apresentando, se está aprovado ou reprovado."
      ],
      "metadata": {
        "id": "m6_s-6CeXRgm"
      }
    },
    {
      "cell_type": "code",
      "source": [
        "nota1 = float(input('Digite a seguir sua primeira nota: '))\n",
        "nota2 = float(input('Digite a seguir sua segunda nota: '))\n",
        "media = nota1 + nota2 / 2\n",
        "if media >= 6:\n",
        "    print('Caro aluno, você está aprovado!')\n",
        "else:\n",
        "    print('Caro aluno, você não está aprovado!')"
      ],
      "metadata": {
        "id": "zHYYE1H3X1Ug",
        "colab": {
          "base_uri": "https://localhost:8080/"
        },
        "outputId": "a1a7812a-9727-4960-931c-cd1ca115f7c0"
      },
      "execution_count": null,
      "outputs": [
        {
          "output_type": "stream",
          "name": "stdout",
          "text": [
            "Digite a seguir sua primeira nota: 4.5\n",
            "Digite a seguir sua segunda nota: 10\n",
            "Caro aluno, você está aprovado!\n"
          ]
        }
      ]
    },
    {
      "cell_type": "markdown",
      "source": [
        "###3.b) Faça um algoritmo que calcule e apresente o que foi requerido no exercício 3.a) e também avalie a condição de aprovar/reprovar, apenas quando o aluno tem frequencia acima de 75%, este valor deve ser lido."
      ],
      "metadata": {
        "id": "FDxDc_2RX7vf"
      }
    },
    {
      "cell_type": "code",
      "source": [
        "nota1 = float(input('Digite a seguir sua primeira nota: '))\n",
        "nota2 = float(input('Digite a seguir sua segunda nota: '))\n",
        "frequencia = float(input('Digite sua frequencia %: '))\n",
        "media = nota1 + nota2 / 2\n",
        "if media >= 6 and frequencia >= 75:\n",
        "    print('Caro aluno, você está aprovado!')\n",
        "else:\n",
        "    print('Caro aluno, você não está aprovado!')"
      ],
      "metadata": {
        "id": "IUOPeeExYide",
        "colab": {
          "base_uri": "https://localhost:8080/"
        },
        "outputId": "ae1a555f-4189-404c-fe0d-79357792374b"
      },
      "execution_count": null,
      "outputs": [
        {
          "output_type": "stream",
          "name": "stdout",
          "text": [
            "Digite a seguir sua primeira nota: 4.5\n",
            "Digite a seguir sua segunda nota: 10\n",
            "Digite sua frequencia %: 98\n",
            "Caro aluno, você está aprovado!\n"
          ]
        }
      ]
    },
    {
      "cell_type": "markdown",
      "source": [
        "###4. Faça um algoritmo que leia o gênero de uma pessoa. Se for digitado M ou F, apresentar 'Gênero válido!'. Caso contrário, 'Gênero inválido!'."
      ],
      "metadata": {
        "id": "zi3sycu6Y8hH"
      }
    },
    {
      "cell_type": "code",
      "source": [
        "sexo = str(input('Digite seu gênero: '))\n",
        "if sexo == 'M' or sexo == 'F':\n",
        "    print('Gênero Válido')\n",
        "else:\n",
        "    print('Gênero Inválido')"
      ],
      "metadata": {
        "id": "Aa7k7IoAY89K",
        "colab": {
          "base_uri": "https://localhost:8080/"
        },
        "outputId": "46262654-4f53-4051-ebe4-5ddc94124ca0"
      },
      "execution_count": null,
      "outputs": [
        {
          "output_type": "stream",
          "name": "stdout",
          "text": [
            "Digite seu gênero: M\n",
            "Gênero Válido\n"
          ]
        }
      ]
    },
    {
      "cell_type": "markdown",
      "metadata": {
        "id": "mWl0IWlJNEtA"
      },
      "source": [
        "###5. Tendo como dados de entrada a altura e o gênero (M/F) de uma pessoa (M-masculino ou F-feminino), construa um algoritmo que calcule seu peso ideal, utilizando as seguintes fórmulas:\n",
        "masculino: (72.7 * altura) - 58;\n",
        "\n",
        "feminino: (62.1 * altura) - 44.7\n",
        "\n"
      ]
    },
    {
      "cell_type": "code",
      "source": [
        "sexo = input('Digite seu gênero, M para Masculino e F para Feminino: ')\n",
        "altura = float(input('Digite sua altura: '))\n",
        "masculino = (72.7 * altura) - 58\n",
        "feminino = (62.1 * altura) - 44.7\n",
        "if sexo == 'M' or sexo == 'm':\n",
        "    print(f'Seu peso ideal é: {masculino:.3f} kg.')\n",
        "elif sexo == 'F' or sexo == 'f':\n",
        "    print(f'Seu peso ideal é: {feminino:.3f} kg.')"
      ],
      "metadata": {
        "colab": {
          "base_uri": "https://localhost:8080/"
        },
        "id": "dOg69A21mSax",
        "outputId": "42df321d-d214-4107-b15d-8d1df0abfe52"
      },
      "execution_count": null,
      "outputs": [
        {
          "output_type": "stream",
          "name": "stdout",
          "text": [
            "Digite seu gênero, M para Masculino e F para Feminino: M\n",
            "Digite sua altura: 1.81\n",
            "Seu peso ideal é: 73.587 kg.\n"
          ]
        }
      ]
    },
    {
      "cell_type": "markdown",
      "source": [
        "###6. Faça um algoritmo que leia dois números inteiros e mostre o resultado da **diferença** do maior valor pelo menor."
      ],
      "metadata": {
        "id": "7QnlOyxxaAZc"
      }
    },
    {
      "cell_type": "code",
      "source": [
        "num1 = int(input('Digite um número inteiro: '))\n",
        "num2 = int(input('Digite outro número inteiro: '))\n",
        "if num1 > num2:\n",
        "    maior = int(num1)\n",
        "    menor = int(num2)\n",
        "    diferenca = maior - menor\n",
        "    print(f'a diferença dos números digitados é de {diferenca}')\n",
        "elif num1 < num2:\n",
        "    maior = int(num2)\n",
        "    menor = int(num1)\n",
        "    diferenca = maior - menor\n",
        "    print(f'a diferença dos números digitados é de {diferenca}')\n",
        "else:\n",
        "    print(f'Ambos os digitados são iguais e não tem uma diferença')"
      ],
      "metadata": {
        "id": "8Eu5pLm5Z-Y7",
        "colab": {
          "base_uri": "https://localhost:8080/"
        },
        "outputId": "716aec0c-a1b9-4d88-b731-ed82e8c0e717"
      },
      "execution_count": null,
      "outputs": [
        {
          "output_type": "stream",
          "name": "stdout",
          "text": [
            "Digite um número inteiro: 89\n",
            "Digite outro número inteiro: 88\n",
            "a diferença dos números digitados é de 1\n"
          ]
        }
      ]
    },
    {
      "cell_type": "markdown",
      "source": [
        "###7. Uma faculdade faz o pagamento de seus professores por hora/aula. Faça um algoritmo que receba o nível e a quantidade de hora/aula, calcule e exiba o salário de um professor e a frase a seguira tabela abaixo:\n",
        "Professor Nível 1 - 11,00 reais por hora/aula, salário: ...\n",
        "\n",
        "Professor Nível 2 - 15,00 reais por hora/aula, salário: ...\n",
        "\n",
        "Professor Nível 3 - 19,00 reais por hora/aula, salário: ..."
      ],
      "metadata": {
        "id": "VupgaQwwagfI"
      }
    },
    {
      "cell_type": "code",
      "metadata": {
        "id": "Q8ZKZyGLNxFf",
        "colab": {
          "base_uri": "https://localhost:8080/"
        },
        "outputId": "555f4e22-a012-443e-e8af-927f970be5e2"
      },
      "source": [
        "nivel = int(input('Professor, digite o nível q está de 1 a 3: '))\n",
        "qtde_horas = float(input('Digite a quantidade de horas trabalhadas ou aulas dadas: '))\n",
        "if nivel == 1:\n",
        "    salario = qtde_horas * 11\n",
        "    print(f'Professor de level 1, seu salário de acordo com as horas trabalhadas é de: R${salario}')\n",
        "elif nivel == 2:\n",
        "    salario = qtde_horas * 15\n",
        "    print(f'Professor de level 2, seu salário de acordo com as horas trabalhadas é de: R${salario}')\n",
        "elif nivel == 3:\n",
        "    salario = qtde_horas * 19\n",
        "    print(f'Professor de level 3, seu salário de acordo com as horas trabalhadas é de: R${salario}')"
      ],
      "execution_count": null,
      "outputs": [
        {
          "output_type": "stream",
          "name": "stdout",
          "text": [
            "Professor, digite o nível q está de 1 a 3: 2\n",
            "Digite a quantidade de horas trabalhadas ou aulas dadas: 245\n",
            "Professor de level 2, seu salário de acordo com as horas trabalhadas é de: R$3675.0\n"
          ]
        }
      ]
    },
    {
      "cell_type": "markdown",
      "metadata": {
        "id": "ZG-AZwwLN4Vf"
      },
      "source": [
        "###8. Faça um algoritmo que leia um número inteiro e mostre uma mensagem indicando se este número é par ou ímpar e se é positivo ou negativo.\n"
      ]
    },
    {
      "cell_type": "code",
      "metadata": {
        "id": "t4jNff-_N9xR",
        "colab": {
          "base_uri": "https://localhost:8080/"
        },
        "outputId": "15c412c8-65c0-4bd4-a51f-f6bbba5dc2cb"
      },
      "source": [
        "numero = int(input('Digite um número inteiro: '))\n",
        "restante = numero % 2\n",
        "if restante == 0 and numero >= 0:\n",
        "    print('Esse número é par e postivo')\n",
        "elif restante == 0 and numero < 0:\n",
        "    print('Esse número é par e negativo')\n",
        "elif restante != 0 and numero >= 0:\n",
        "    print('Esse número é ímpar e positivo')\n",
        "else:\n",
        "    print('Este número é ímpar e negativo')"
      ],
      "execution_count": null,
      "outputs": [
        {
          "output_type": "stream",
          "name": "stdout",
          "text": [
            "Digite um número inteiro: -24\n",
            "Esse número é par e negativo\n"
          ]
        }
      ]
    },
    {
      "cell_type": "markdown",
      "source": [
        "###9. Num determinado Estado, para transferências de veículos, o DETRAN cobra uma taxa de 1% para carros fabricados antes de 1990 e uma taxa de 1.5% para os fabricados de 1990 em diante, taxa esta incidindo sobre o valor de tabela do carro. Faça um algoritmo que leia o ano e o preço do carro, calcule e apresente o imposto a ser pago."
      ],
      "metadata": {
        "id": "4CVm6Oa5eNTp"
      }
    },
    {
      "cell_type": "code",
      "source": [
        "ano_car = int(input('Digite o ano do veículo: '))\n",
        "preco_car = float(input('Digite o valor do veículo: R$'))\n",
        "if preco_car < 1990:\n",
        "    imposto = preco_car *  00.1\n",
        "    print(f'O valor do imposto a ser pago pelo veículo fabricado antes de 1990 é de R${imposto:.2f}')\n",
        "elif preco_car >= 1990:\n",
        "    imposto = preco_car * 0.015\n",
        "    print(f'O imposto a ser pago pelo veículo fabricado depois de 1990 em diante é de R${imposto:.2f}')"
      ],
      "metadata": {
        "id": "ys1x7SuegHK1",
        "colab": {
          "base_uri": "https://localhost:8080/"
        },
        "outputId": "883914f5-8550-4f85-de92-9ae8da073725"
      },
      "execution_count": null,
      "outputs": [
        {
          "output_type": "stream",
          "name": "stdout",
          "text": [
            "Digite o ano do veículo: 2022\n",
            "Digite o valor do veículo: R$190000\n",
            "O imposto a ser pago pelo veículo fabricado depois de 1990 em diante é de R$2850.00\n"
          ]
        }
      ]
    },
    {
      "cell_type": "markdown",
      "metadata": {
        "id": "tFR9qp3gN999"
      },
      "source": [
        "###10. Elabore um algoritmo que informando a idade de um nadador o mesmo terá condições de classificar em uma das seguintes categorias:\n",
        "infantil = 5 - 10 anos;\n",
        "\n",
        "juvenil = 11-17 anos;\n",
        "\n",
        "adulto = maiores de 18 anos.\n",
        "\n"
      ]
    },
    {
      "cell_type": "code",
      "metadata": {
        "id": "ECh55bXTOUN3",
        "colab": {
          "base_uri": "https://localhost:8080/"
        },
        "outputId": "eecf24ba-4d59-4a90-a555-d98efca559ee"
      },
      "source": [
        "idade = int(input('Digite sua idade a partir de 5 anos: '))\n",
        "if idade == 5 or idade <= 10:\n",
        "    print(f'Você é um nadador da categoria infantil!')\n",
        "elif idade == 11 or idade <=17:\n",
        "    print(f'Você é um nadador da categoria juvenil!')\n",
        "elif idade >= 18:\n",
        "    print(f'Você é um nadador da categoria adulto!')\n"
      ],
      "execution_count": null,
      "outputs": [
        {
          "output_type": "stream",
          "name": "stdout",
          "text": [
            "Digite sua idade a partir de 5 anos: 17\n",
            "Você é um nadador da categoria juvenil!\n"
          ]
        }
      ]
    },
    {
      "cell_type": "markdown",
      "metadata": {
        "id": "pWT4E1FfOUkH"
      },
      "source": [
        "###11. Um banco concederá um crédito especial aos seus clientes, variável com o saldo médio no último ano. Faça um algoritmo que leia o saldo médio de um cliente e calcule o valor do crédito de acordo com a tabela a seguir. Mostre uma mensagem informando o saldo médio e o valor do crédito.\n",
        "        Saldo médio\n",
        "        * de 0 a 200 nenhum crédito\n",
        "        * de 201 a  400 20% do valor do saldo médio\n",
        "        * de 401 a  600 30% do valor do saldo médio\n",
        "        * acima de 601 40% do valor do saldo médio\n"
      ]
    },
    {
      "cell_type": "code",
      "metadata": {
        "id": "bjndIJmMP2--",
        "colab": {
          "base_uri": "https://localhost:8080/"
        },
        "outputId": "d11aaa82-f362-4090-8fd5-9743fbdf3704"
      },
      "source": [
        "saldo_medio = float(input('Digite o saldo médio feito no ultimo ano: R$'))\n",
        "if saldo_medio == 0 or saldo_medio <= 200:\n",
        "    print('Você não receberá nenhum saldo')\n",
        "elif saldo_medio == 201 or saldo_medio <= 400:\n",
        "    credito = saldo_medio * 0.20\n",
        "    print(f'Seu crédito a receber de acordo com seu saldo médio é de R${credito}')\n",
        "elif saldo_medio == 401 or saldo_medio <= 600:\n",
        "    credito = saldo_medio * 0.30\n",
        "    print(f'Seu crédito a receber de acordo com seu saldo médio é de R${credito}')\n",
        "elif saldo_medio >= 601:\n",
        "    credito = saldo_medio * 0.40\n",
        "    print(f'Seu crédito a receber de acordo com seu saldo médio é de R${credito}')\n"
      ],
      "execution_count": null,
      "outputs": [
        {
          "output_type": "stream",
          "name": "stdout",
          "text": [
            "Digite o saldo médio feito no ultimo ano: R$8540.90\n",
            "Seu crédito a receber de acordo com seu saldo médio é de R$3416.36\n"
          ]
        }
      ]
    },
    {
      "cell_type": "markdown",
      "metadata": {
        "id": "4NQ1BgrnQCJ4"
      },
      "source": [
        "###12. A Organização Mundial de Saúde usa a seguinte tabela para determinar a condição de um adulto, para isso desenvolva um algoritmo para calcular o Índice de Massa Corporal (IMC) e apresenta-lo, dado pela fórmula:\n",
        "    IMC = peso / (altura)2   (o número 2 significa, elevado ao quadrado)\n",
        "\n",
        "CONDIÇÃO |  IMC em adultos |\n",
        " ---|---\n",
        "Abaixo do peso  |\tAbaixo de 18.5  |\n",
        "No peso normal\t|\tEntre 18.5 e 25|\n",
        "Acima do peso\t|\tEntre 25.1 e 30|\n",
        "Obeso\t\t    |\tAcima de 30|"
      ]
    },
    {
      "cell_type": "code",
      "metadata": {
        "id": "s7C4mls6TT90",
        "colab": {
          "base_uri": "https://localhost:8080/"
        },
        "outputId": "b3736254-ce84-40c5-e9d3-ac30cbfb7263"
      },
      "source": [
        "peso = float(input('Digite seu peso: '))\n",
        "altura = float(input('Digite sua altura: '))\n",
        "imc = peso / altura * 2\n",
        "if imc < 18.5:\n",
        "    print(f'Você está abaixo do peso indicado pelo IMC da OMS. O cálculo do seu IMC resulta em {imc:.2f}')\n",
        "elif imc == 18.5 or imc <= 25:\n",
        "    print(f'Você está no peso normal indicado pelo IMC da OMS. O cálculo do seu IMC resulta em {imc:.2f}')\n",
        "elif imc == 25.1 or imc <= 30:\n",
        "    print(f'Você está acima do peso indicado pelo IMC da OMS. O cálculo do seu IMC resulta em {imc:.2f}')\n",
        "elif imc > 30:\n",
        "    print(f'Você está obeso, segundo o cálculo do IMC da OMS. O cálculo do seu IMC resulta em {imc:.2f}')"
      ],
      "execution_count": null,
      "outputs": [
        {
          "output_type": "stream",
          "name": "stdout",
          "text": [
            "Digite seu peso: 100\n",
            "Digite sua altura: 1.75\n",
            "Você está obeso, segundo o cálculo do IMC da OMS. O cálculo do seu IMC resulta em 114.29\n"
          ]
        }
      ]
    },
    {
      "cell_type": "markdown",
      "metadata": {
        "id": "-Lj_vtkDwhfJ"
      },
      "source": [
        "###13. A nota final de um estudante é calculada a partir de três notas atribuídas, respectivamente, a um trabalho de laboratório, a uma avaliação semestral e a um exame final. A média das três notas mencionadas obedece aos pesos a seguir:\n",
        "\n",
        " NOTA |  PESO |\n",
        " ---|---\n",
        "Trabalho de laboratório  |   2   |\n",
        "Avaliação semestral      |   3   |\n",
        "Exame final              |   5   |\n",
        "\n",
        "### Faça um programa que receba as três notas, calcule e mostre a média ponderada e o conceito que segue a tabela\n",
        "\n",
        "MÉDIA PONDERADA    | CONCEITO|\n",
        "---|---\n",
        "8,0 <= média <= 10  |    A\n",
        "7,0 <= média < 8,0  |    B\n",
        "6,0 <= média < 7,0  |    C\n",
        "5,0 <= média < 6,0  |    D\n",
        " 0,0 <= média < 5,0  |    E\n",
        "       \n",
        "media_ponderada = (nota_traballho * 2 + avaliacao_semestral * 3 + exame_final * 5) / 10\n",
        "\n"
      ]
    },
    {
      "cell_type": "code",
      "metadata": {
        "id": "fhlh7OxNwDhl",
        "colab": {
          "base_uri": "https://localhost:8080/"
        },
        "outputId": "4798a9fa-c651-4612-94f7-0f934d593562"
      },
      "source": [
        "nota_trabalho = float(input('Digite a nota obtida no seu trabalho(1 a 2): '))\n",
        "avaliacao_semestral = float(input('Digite a nota obtida na sua avalição semestral(1 a 3): '))\n",
        "exame_final = float(input('Digite a nota obtida no seu exame final(1 a 5): '))\n",
        "media_ponderada = nota_trabalho * 2 + avaliacao_semestral * 3 + exame_final * 5 / 10\n",
        "if media_ponderada >= 8 and media_ponderada <= 10:\n",
        "    print('Seu conceito é A')\n",
        "elif media_ponderada >= 7 and media_ponderada < 8:\n",
        "    print('Seu conceito é B')\n",
        "elif media_ponderada >= 6 and media_ponderada < 7:\n",
        "    print('Seu conceito é C')\n",
        "elif media_ponderada >= 5 and media_ponderada < 6:\n",
        "    print('Seu conceito é D')\n",
        "elif media_ponderada >= 0 and media_ponderada < 5:\n",
        "    print('Seu conceito é E')"
      ],
      "execution_count": null,
      "outputs": [
        {
          "output_type": "stream",
          "name": "stdout",
          "text": [
            "Digite a nota obtida no seu trabalho(1 a 2): 1\n",
            "Digite a nota obtida na sua avalição semestral(1 a 3): 1\n",
            "Digite a nota obtida no seu exame final(1 a 5): 1\n",
            "Seu conceito é D\n"
          ]
        }
      ]
    },
    {
      "cell_type": "markdown",
      "metadata": {
        "id": "PAaDySD4wkK_"
      },
      "source": [
        "### 14. Faça um programa que receba três notas de um aluno, calcule e mostre a média aritmética e a mensagem constante na tabela a seguir. Aos alunos que ficaram para exame, calcule e mostre a nota que deverão tirar para serem aprovados, considerando que a média exigida é 6,0.\n",
        "\n",
        "MÉDIA ARITMÉTICA | MENSAGEM\n",
        "    ---|---\n",
        "    0 <= média < 3 |Reprovado\n",
        "    3 <= média < 6|Exame\n",
        "    6 <= média <= 10|Aprovado\n",
        "\n",
        "```\n",
        "SE media >= 3 E media < 6\n",
        "    ESCREVA “Exame”\n",
        "    nota_exame = 12 - media\n",
        "    ESCREVA “Você deve tirar a nota”, nota_exame, “para ser aprovado.”\n"
      ]
    },
    {
      "cell_type": "code",
      "metadata": {
        "id": "y1Wfq8tzwm06",
        "colab": {
          "base_uri": "https://localhost:8080/"
        },
        "outputId": "a9b49cde-9578-484c-8b41-4e1ca8a1b73d"
      },
      "source": [
        "nota1 = float(input('Digite sua primeira nota: '))\n",
        "nota2 = float(input('Digite sua segundaa nota: '))\n",
        "nota3 = float(input('Digite sua terceira nota: '))\n",
        "media = nota1 + nota2 + nota3 / 3\n",
        "if media >= 0 and media < 3:\n",
        "    print('Reprovado!')\n",
        "elif media >= 6 and media <= 10:\n",
        "    print('Aprovado!')\n",
        "elif media >= 3 and media < 6:\n",
        "    print('Você fara o Exame!')\n",
        "    nota_exame = 12 - media\n",
        "    print(f'Você deve tirar nota {nota_exame} para ser Aprovado!')"
      ],
      "execution_count": null,
      "outputs": [
        {
          "name": "stdout",
          "output_type": "stream",
          "text": [
            "Digite sua primeira nota: 5\n",
            "Digite sua segundaa nota: 5\n",
            "Digite sua terceira nota: 5\n"
          ]
        }
      ]
    },
    {
      "cell_type": "markdown",
      "metadata": {
        "id": "7O0Mqmidwm-j"
      },
      "source": [
        "### 15. Faça um programa que receba dois números e mostre o maior.\n"
      ]
    },
    {
      "cell_type": "code",
      "metadata": {
        "id": "HcTiyc7GwpKM",
        "colab": {
          "base_uri": "https://localhost:8080/"
        },
        "outputId": "ea1f72c6-ff33-4ada-8068-92cd32e781c9"
      },
      "source": [
        "num1 = float(input('DIgite um número: '))\n",
        "num2 = float(input('DIgite outro número: '))\n",
        "if num1 > num2:\n",
        "    print(f'{num1} é maior que {num2}')\n",
        "elif num2 > num1:\n",
        "    print(f'{num2} é maior que {num1}')\n",
        "elif num1 == num2 or num2 == num1:\n",
        "    print('Ambos são iguais')"
      ],
      "execution_count": null,
      "outputs": [
        {
          "output_type": "stream",
          "name": "stdout",
          "text": [
            "DIgite um número: 12\n",
            "DIgite outro número: 12\n",
            "Ambos são iguais\n"
          ]
        }
      ]
    },
    {
      "cell_type": "markdown",
      "metadata": {
        "id": "2_NBZeVXwpTd"
      },
      "source": [
        "### 16. Faça um programa que receba três números e mostre-os em ordem crescente. Suponha que o usuário digitará três números diferentes.\n",
        "\n",
        "```\n",
        "SE numero1 < numero2 E numero1 < numero3\n",
        "    SE numero2 < numero3\n",
        "        ESCREVA “A ordem crescente é: “,numero1,“-”,numero2,“-”,numero3\n",
        "    SENÃO\n",
        "        ESCREVA “A ordem crescente é: “,numero1,“-”,numero3,“-”,numero2\n",
        "SE numero2 < numero1 E numero2 < numero3\n",
        "    SE numero1 < numero3\n",
        "        ESCREVA “A ordem crescente é: “,numero2,“-”,numero1,“-”,numero3\n",
        "    SENÃO\n",
        "        ESCREVA “A ordem crescente é: “,numero2,“-”,numero3,“-”,numero1\n",
        "SE numero3 < numero1 E numero3 < num2\n",
        "    SE numero1 < numero2\n",
        "        ESCREVA “A ordem crescente é: “,numero3,“-”,numero1,“-”,numero2\n",
        "    SENÃO\n",
        "        ESCREVA “A ordem crescente é: “,numero3,“-”,numero2,“-”,numero1\n",
        "  ```"
      ]
    },
    {
      "cell_type": "code",
      "metadata": {
        "id": "Ek3oVh59wsJJ",
        "colab": {
          "base_uri": "https://localhost:8080/"
        },
        "outputId": "8e96f91d-9fb7-4734-d192-43987c294b3a"
      },
      "source": [
        "numero1 = float(input('DIgite um número: '))\n",
        "numero2 = float(input('DIgite mais um número: '))\n",
        "numero3 = float(input('DIgite outro número: '))\n",
        "if numero1 < numero2 and numero1 < numero3:\n",
        "    if numero2 < numero3:\n",
        "        print(f'A ordem crescente é: {numero1}, {numero2}, {numero3}')\n",
        "    else:\n",
        "        print(f'A ordem crescente é: {numero1}, {numero3}, {numero2}')\n",
        "if numero2 < numero1 and numero2 < numero3:\n",
        "    if numero1 < numero3:\n",
        "        print(f'A ordem crescente é: {numero2}, {numero1}, {numero3}')\n",
        "    else:\n",
        "        print(f'A ordem crescente é: {numero2}, {numero3}, {numero1}')\n",
        "if numero3 < numero1 and numero3 < numero2:\n",
        "    if numero1 < numero2:\n",
        "        print(f'A ordem crescente é: {numero3}, {numero1}, {numero2}')\n",
        "    else:\n",
        "        print(f'A ordem crescente é: {numero3}, {numero2}, {numero1}')\n"
      ],
      "execution_count": null,
      "outputs": [
        {
          "output_type": "stream",
          "name": "stdout",
          "text": [
            "DIgite um número: 80\n",
            "DIgite mais um número: 2\n",
            "DIgite outro número: 195\n",
            "A ordem crescente é: 2.0, 80.0, 195.0\n"
          ]
        }
      ]
    },
    {
      "cell_type": "markdown",
      "metadata": {
        "id": "ZhHFeeuKwsS_"
      },
      "source": [
        "### 17. Faça um programa que receba três números obrigatoriamente em ordem crescente e um quarto número que não siga essa regra. Mostre, em seguida, os quatro números em ordem decrescente. Suponha que o usuário digitará quatro números diferentes.\n",
        "\n",
        "```code\n",
        "SE numero4 > numero3\n",
        "    ESCREVA “A ordem decrescente é: “,numero4,“-”,numero3,“-”,numero2,“-”,numero1\n",
        "SENÃO SE numero4 > numero2 E numero4 < numero3\n",
        "    ESCREVA “A ordem decrescente é: “,numero3,“-”,numero4,“-”,numero2,“-”,numero1\n",
        "SENÃO SE numero4 > numero1 E numero4 < numero2\n",
        "    ESCREVA “A ordem decrescente é: “,numero3,“-”,numero2,“-”,numero4, “-”,numero1\n",
        "SENÃO SE numero4 < numero1\n",
        "    ESCREVA “A ordem decrescente é: “,numero3,“-”,numero2,“-”,numero1,“-”,numero4\n",
        "```"
      ]
    },
    {
      "cell_type": "code",
      "metadata": {
        "id": "MXb2lDpTwukn",
        "colab": {
          "base_uri": "https://localhost:8080/"
        },
        "outputId": "d44a9e99-8915-43dc-bff8-21c81e8aeb2e"
      },
      "source": [
        "print('Digite três números em ordem crescente')\n",
        "numero1 = int(input('Digite o primeiro número: '))\n",
        "numero2 = int(input('Digite o segundo número: '))\n",
        "numero3 = int(input('Digite o terceiro número: '))\n",
        "print('Digite um quarto número, não importa qual seja!')\n",
        "numero4 = int(input('Digite o quarto número: '))\n",
        "if numero4 > numero3:\n",
        "    print(f'A ordem decrescente é: {numero4}, {numero3}, {numero2}, {numero1}')\n",
        "elif numero4 > numero2 and numero4 < numero3:\n",
        "    print(f'A ordem decrescente é: {numero3}, {numero4}, {numero2}, {numero1}')\n",
        "elif numero4 > numero1 and numero4 < numero2:\n",
        "    print(f'A ordem decrescente é: {numero3}, {numero2}, {numero4}, {numero1}')\n",
        "elif numero4 < numero1:\n",
        "    print(f'A ordem decrescente é: {numero3}, {numero2}, {numero1}, {numero4}')"
      ],
      "execution_count": null,
      "outputs": [
        {
          "output_type": "stream",
          "name": "stdout",
          "text": [
            "Digite três números em ordem crescente\n",
            "Digite o primeiro número: 10\n",
            "Digite o segundo número: 12\n",
            "Digite o terceiro número: 13\n",
            "Digite um quarto número, não importa qual seja!\n",
            "Digite o quarto número: 99\n",
            "A ordem decrescente é: 99, 13, 12, 10\n"
          ]
        }
      ]
    },
    {
      "cell_type": "markdown",
      "metadata": {
        "id": "U6uFBqEEwxTU"
      },
      "source": [
        "### 18. Faça um programa que receba quatro valores: I, A, B e C. Desses valores, I é inteiro e positivo, A, B e C são reais. Escreva os números A, B e C obedecendo à tabela a seguir.\n",
        "\n",
        "*Suponha que o valor digitado para I seja sempre um valor válido, ou seja, 1, 2 ou 3, e que os números digitados sejam diferentes um do outro.*\n",
        "\n",
        "  |VALOR DE I | FORMA A ESCREVER|\n",
        "  |---|---|\n",
        "  |1                  |A, B e C em ordem crescente.|\n",
        "  |2                  |A, B e C em ordem decrescente|\n",
        "  |3                  |O maior fica entre os outros dois números.|\n",
        "\n",
        "  ```code\n",
        "SE I == 1\n",
        "    SE A<B E A<C\n",
        "        SE B<C\n",
        "            ESCREVA “A ordem crescente dos números é:”,A,” -”,B,”-”,C\n",
        "        SENÃO\n",
        "            ESCREVA “A ordem crescente dos números é:”,A,” -”,C,”-”,B\n",
        "    SE B<A E B<C\n",
        "        SE A<C\n",
        "            ESCREVA “A ordem crescente dos números é:”,B,”-”,A,”-”,C\n",
        "        SENÃO\n",
        "            ESCREVA “A ordem crescente dos números é: “,B,”-”,C,”-”,A\n",
        "    SE C<A E C<B\n",
        "        SE A<B\n",
        "            ESCREVA “A ordem crescente dos números é: “,C,”-”,A,”-”,B\n",
        "        SENÃO\n",
        "            ESCREVA “A ordem crescente dos números é: “,C,”-”,B,”-”,A\n",
        "SE I == 2\n",
        "    SE A>B E A>C\n",
        "        SE B>C\n",
        "            ESCREVA “A ordem decrescente dos números é: “,A,” -”,B,”-”,C\n",
        "        SENÃO\n",
        "            ESCREVA “A ordem decrescente dos números é: “,A,” -”,C,”-”,B\n",
        "    SE B>A E B>C\n",
        "        SE A>C\n",
        "            ESCREVA “A ordem decrescente dos números é: “,B,” -”,A,”-”,C\n",
        "        SENÃO\n",
        "            ESCREVA “A ordem decrescente dos números é: “,B,” -”,C,”-”,A\n",
        "    SE C>A E C>B\n",
        "        SE A>B\n",
        "            ESCREVA “A ordem decrescente dos números é: “,C,” -”,A,”-”,B\n",
        "        SENÃO\n",
        "            ESCREVA “A ordem decrescente dos números é: “,C,” -”,B,”-”,A\n",
        "SE I == 3\n",
        "    SE A>B E A>C\n",
        "        ESCREVA “A ordem desejada é: “,B,”-”,A,”-”,C\n",
        "    SE B>A E B>C\n",
        "        ESCREVA “A ordem desejada é: “,A,”-”,B,”-”,C\n",
        "    SE C>A E C>B\n",
        "        ESCREVA “A ordem desejada é: “,A,”-”,C,”-”,B\n",
        "```"
      ]
    },
    {
      "cell_type": "code",
      "metadata": {
        "id": "xComTuz4w2uW",
        "colab": {
          "base_uri": "https://localhost:8080/"
        },
        "outputId": "f713e8d0-c1e2-4a1d-e64a-be81d3f82087"
      },
      "source": [
        "print('Digite um número inteiro e positivo |ESCOLHA ENTRE 1, 2, 3|')\n",
        "i = int(input\n",
        "        ('Digite o número: '))\n",
        "print('Digite quatro números reais: ')\n",
        "a = float(input('Digite um numero: '))\n",
        "b = float(input('Digite um numero: '))\n",
        "c = float(input('Digite um numero: '))\n",
        "if i == 1:\n",
        "    if a < b and a < c:\n",
        "        if b < c:\n",
        "            print(f'A ordem crescente dos números é: {a}, {b}, {c}.')\n",
        "        else:\n",
        "            print(f'A ordem crescente dos números é: {a}, {c}, {b}.')\n",
        "    if b < a and b < c:\n",
        "        if a < c:\n",
        "            print(f'A ordem crescente dos números é: {b}, {a}, {c}.')\n",
        "        else:\n",
        "            print(f'A ordem crescente dos números é: {b}, {c}, {a}.')\n",
        "    if c < a and c < b:\n",
        "        if a < b:\n",
        "            print(f'A ordem crescente dos números é: {c}, {a}, {b}.')\n",
        "        else:\n",
        "            print(f'A ordem crescente dos números é: {c}, {b}, {a}.')\n",
        "if i == 2:\n",
        "    if a > b and a > c:\n",
        "        if b > c:\n",
        "            print(f'A ordem decrescente dos números é: {a}, {b}, {c}.')\n",
        "        else:\n",
        "            print(f'A ordem decrescente dos números é: {a}, {c}, {b}.')\n",
        "    if b > a and b > c:\n",
        "        if a > c:\n",
        "            print(f'A ordem decrescente dos números é: {b}, {a}, {c}.')\n",
        "        else:\n",
        "            print(f'A ordem decrescente dos números é: {b}, {c}, {a}.')\n",
        "    if c > a and c > b:\n",
        "        if a > b:\n",
        "            print(f'A ordem decrescente dos números é: {c}, {a}, {b}.')\n",
        "        else:\n",
        "            print(f'A ordem decrescente dos números é: {c}, {b}, {a}.')\n",
        "if i == 3:\n",
        "    if a > b and a > c:\n",
        "        print(f'A ordem desejada dos números é: {b}, {a}, {c}.')\n",
        "    if b > a and b > c:\n",
        "        print(f'A ordem decrescente dos números é: {a}, {b}, {c}.')\n",
        "    if c > a and c > b:\n",
        "        print(f'A ordem decrescente dos números é: {a}, {c}, {b}.')"
      ],
      "execution_count": null,
      "outputs": [
        {
          "output_type": "stream",
          "name": "stdout",
          "text": [
            "Digite um número inteiro e positivo |ESCOLHA ENTRE 1, 2, 3|\n",
            "Digite o número: 2\n",
            "Digite quatro números reais: \n",
            "Digite um numero: 2.5\n",
            "Digite um numero: 12\n",
            "Digite um numero: 0.7\n",
            "A ordem decrescente dos números é: 12.0, 2.5, 0.7.\n"
          ]
        }
      ]
    },
    {
      "cell_type": "markdown",
      "metadata": {
        "id": "uN4h6-qFw22p"
      },
      "source": [
        "### 19. Faça um programa que mostre o menu de opções a seguir, receba a opção do usuário, número 1 para a escolha da soma, ou número 2 para a raiz quadrada, também receba os dados necessários para executar cada operação.\n",
        "\n",
        "    Menu de opções:\n",
        "    1. Somar dois números.\n",
        "    2. Raiz quadrada de um número.\n",
        "\n",
        "Observação: raiz = numero ** (1/2), ou\n",
        "import math\n",
        "raiz = math.sqrt(numero)\n",
        "      "
      ]
    },
    {
      "cell_type": "code",
      "metadata": {
        "id": "8otY1f_ow5Sy",
        "colab": {
          "base_uri": "https://localhost:8080/"
        },
        "outputId": "135a1d7c-f32d-4236-c3d5-f482c4360a65"
      },
      "source": [
        "print('Menu de opções:')\n",
        "print('1. Somar dois números.')\n",
        "print('2. Raiz quadrada de um número.')\n",
        "opcao = int(input('Digite sua escolha: '))\n",
        "if opcao == 1:\n",
        "    num1 = float(input('Digite um número: '))\n",
        "    num2 = float(input('Digite outro número: '))\n",
        "    opcao1 = num1 + num2\n",
        "    print(f'Resultado da soma é {opcao1}')\n",
        "elif opcao == 2:\n",
        "    numero = float(input('Digite o número que deseja saber a raíz quadrada: '))\n",
        "    raiz = numero ** (1/2)\n",
        "    print(f'O resultado da raíz quadrada do número escolhido é {raiz}')"
      ],
      "execution_count": null,
      "outputs": [
        {
          "output_type": "stream",
          "name": "stdout",
          "text": [
            "Menu de opções:\n",
            "1. Somar dois números.\n",
            "2. Raiz quadrada de um número.\n",
            "Digite sua escolha: 2\n",
            "Digite o número que deseja saber a raíz quadrada: 2\n",
            "O resultado da raíz quadrada do número escolhido é 1.4142135623730951\n"
          ]
        }
      ]
    },
    {
      "cell_type": "markdown",
      "metadata": {
        "id": "xVYTUU1Qw5b0"
      },
      "source": [
        "### 20. Faça um programa que mostre a data e a hora do sistema nos seguintes formatos: **dia/mês/ano – mês por extenso e hora:minuto**.\n",
        "\n",
        "Observação: ***from*** carrega um módulo/biblioteca da linguagem Python e o ***import*** é usado para informar qual objeto desta biblioteca queremos importar/carregar no nosso programa\n",
        "\n",
        "    from datetime import datetime\n",
        "    #captura a data e hora de hoje de algum país onde esta o servidor que executa nosso programa em Python\n",
        "    #quando eu testei, o servidor era de Dacar-Senegal\n",
        "    hoje = datetime.now()\n",
        "    print ('Ano atual.:',hoje.year)\n",
        "    print ('Mês.......:',hoje.month)\n",
        "    print ('Dia.......:',hoje.day)\n",
        "    print ('Hora......:',hoje.hour)\n",
        "    print ('Minuto....:',hoje.minute)\n",
        "    print ('Segundos..:',hoje.second)"
      ]
    },
    {
      "cell_type": "code",
      "metadata": {
        "id": "e-wpYfvew8A2",
        "colab": {
          "base_uri": "https://localhost:8080/"
        },
        "outputId": "bd7a038b-15a7-4c2d-b00e-1c8a4ad76665"
      },
      "source": [
        "from datetime import datetime\n",
        "hoje = datetime.now()\n",
        "print ('Ano atual.:',hoje.year)\n",
        "print ('Mês.......:',hoje.month)\n",
        "print ('Dia.......:',hoje.day)\n",
        "print ('Hora......:',hoje.hour)\n",
        "print ('Minuto....:',hoje.minute)\n",
        "print ('Segundos..:',hoje.second)\n",
        "if hoje.month == 1:\n",
        "    print(hoje.day,'/Janeiro/',hoje.year)\n",
        "...\n",
        "..."
      ],
      "execution_count": null,
      "outputs": [
        {
          "output_type": "stream",
          "name": "stdout",
          "text": [
            "Ano atual.: 2022\n",
            "Mês.......: 3\n",
            "Dia.......: 28\n",
            "Hora......: 16\n",
            "Minuto....: 0\n",
            "Segundos..: 18\n"
          ]
        },
        {
          "output_type": "execute_result",
          "data": {
            "text/plain": [
              "Ellipsis"
            ]
          },
          "metadata": {},
          "execution_count": 40
        }
      ]
    },
    {
      "cell_type": "markdown",
      "metadata": {
        "id": "BwvSTMttw8KJ"
      },
      "source": [
        "### 21. Faça um programa que determine a data cronologicamente maior entre duas datas fornecidas pelo usuário. Cada data deve ser composta por três valores inteiros, em que o primeiro representa o dia, o segundo, o mês e o terceiro, o ano.\n",
        "\n",
        "  ```code\n",
        "  SE ano1 > ano2\n",
        "      ESCREVA “A maior data é: “,dia1,”-”,mes1,”-”,ano1\n",
        "  SENÃO SE ano2>ano1\n",
        "      ESCREVA “A maior data é: “,dia2,”-”,mes2,”-”,ano2\n",
        "  SENÃO SE mes1>mes2\n",
        "      ESCREVA “A maior data é: “,dia1,”-”,mes1,”-”,ano1\n",
        "  SENÃO SE mes2>mes1\n",
        "      ESCREVA “A maior data é: “,dia2, “-”,mes2,”-”,ano2\n",
        "  SENÃO SE dia1>dia2\n",
        "      ESCREVA “A maior data é: “-”,dia1,”-”,mia1,” -”,ano1\n",
        "  SENÃO SE dia2>dia1\n",
        "      ESCREVA “A maior data é: “,dia2,” -”,mes2,”-”,ano2\n",
        "  SENÃO\n",
        "      ESCREVA “As datas são iguais!”\n",
        "  ```"
      ]
    },
    {
      "cell_type": "code",
      "metadata": {
        "id": "Ayf2tlS1w-e7",
        "colab": {
          "base_uri": "https://localhost:8080/"
        },
        "outputId": "ceaf51c4-8bda-4b4c-f49e-8412c7c286ee"
      },
      "source": [
        "print('Digite duas datas abaixo:')\n",
        "dia1 = int(input('Digite um dia(DD): '))\n",
        "mes1 = int(input('Digite o número do mês(MM): '))\n",
        "ano1 = int(input('Digite o ano(AAAA): '))\n",
        "print('Agora digite outra data: ')\n",
        "dia2 = int(input('Digite um dia(DD): '))\n",
        "mes2 = int(input('Digite o número do mês(MM): '))\n",
        "ano2 = int(input('Digite o ano(AAAA): '))\n",
        "if ano1 > ano2:\n",
        "    print(f'A maior data é: {dia1}, {mes1}, {ano1}')\n",
        "elif ano2 > ano1:\n",
        "    print(f'A maior data é: {dia2}, {mes2}, {ano2}')\n",
        "elif mes1 > mes2:\n",
        "    print(f'A maior data é: {dia1}, {mes1}, {ano1}')\n",
        "elif mes2 > mes1:\n",
        "    print(f'A maior data é: {dia2}, {mes2}, {ano2}')\n",
        "elif dia1 > dia2:\n",
        "    print(f'A maior data é: {dia1}, {mes1}, {ano1}')\n",
        "elif dia2 > dia1:\n",
        "    print(f'A maior data é: {dia2}, {mes2}, {ano2}')\n",
        "else:\n",
        "    print('As datas são iguais')"
      ],
      "execution_count": null,
      "outputs": [
        {
          "output_type": "stream",
          "name": "stdout",
          "text": [
            "Digite duas datas abaixo:\n",
            "Digite um dia(DD): 25\n",
            "Digite o número do mês(MM): 09\n",
            "Digite o ano(AAAA): 1975\n",
            "Agora digite outra data: \n",
            "Digite um dia(DD): 30\n",
            "Digite o número do mês(MM): 11\n",
            "Digite o ano(AAAA): 2004\n",
            "A maior data é: 30, 11, 2004\n"
          ]
        }
      ]
    },
    {
      "cell_type": "markdown",
      "metadata": {
        "id": "cWnawYSbw-o9"
      },
      "source": [
        "### 22. Faça um programa que receba a hora do início de um jogo e a hora do término (cada hora é composta por duas variáveis inteiras: hora e minuto). Calcule e mostre a duração do jogo (horas e minutos), sabendo que o tempo máximo de duração do jogo é de 24 horas e que ele pode começar em um dia e terminar no dia seguinte.\n",
        "    SE min_inicial > min_f\n",
        "        minuto_final = minuto_final + 60\n",
        "        hora_final = hora_final – 1\n",
        "    SE hora_inicial > hora_final\n",
        "        hora_final = hora_final + 24\n",
        "    minuto_duracao = minuto_final - minuto_inicial\n",
        "    hora_duracao = hora_final - hora_inicial"
      ]
    },
    {
      "cell_type": "code",
      "metadata": {
        "id": "-Eq9yPDyxAvk",
        "colab": {
          "base_uri": "https://localhost:8080/"
        },
        "outputId": "04fb9354-0454-4637-95ad-627833684778"
      },
      "source": [
        "hora_inicial = int(input('Digite a hora inical: '))\n",
        "min_inicial = int(input('DIgite o  minuto inicial: '))\n",
        "hora_final = int(input('Digite a hora final: '))\n",
        "min_f = int(input('DIgite o  minuto final: '))\n",
        "if min_inicial > min_f:\n",
        "    minuto_duracao = min_inicial - min_f\n",
        "elif min_f > min_inicial:\n",
        "    minuto_duracao = min_f - min_inicial\n",
        "if hora_inicial > hora_final:\n",
        "    hora_duracao = hora_inicial - hora_final\n",
        "elif hora_final > hora_inicial:\n",
        "    hora_duracao = hora_final - hora_inicial\n",
        "print(f'O jogo teve duraçõa de {hora_duracao} horas e {minuto_duracao} minutos')"
      ],
      "execution_count": null,
      "outputs": [
        {
          "output_type": "stream",
          "name": "stdout",
          "text": [
            "Digite a hora inical: 14\n",
            "DIgite o  minuto inicial: 30\n",
            "Digite a hora final: 22\n",
            "DIgite o  minuto final: 10\n",
            "O jogo teve duraçõa de 8 horas e 20 minutos\n"
          ]
        }
      ]
    },
    {
      "cell_type": "markdown",
      "metadata": {
        "id": "eT4oGEI9xA42"
      },
      "source": [
        "### 23. Faça um programa que receba o código correspondente ao cargo de um funcionário e seu salário atual e mostre o cargo, o valor do aumento e seu novo salário. Os cargos estão na tabela a seguir.\n",
        "\n",
        "  |CÓDIGO|CARGO|PERCENTUAL|\n",
        "  |---|---|---|\n",
        "  |1|Escriturário|50%|\n",
        "  |2|Secretário|35%|\n",
        "  |3|Caixa|20%|\n",
        "  |4|Gerente|10%|\n",
        "  |5|Diretor|Não tem aumento|\n",
        "\n",
        "```code\n",
        "SE cargo == 1\n",
        "    ESCREVA “O cargo é Escriturário”\n",
        "    aumento = salario * 50 / 100\n",
        "    ESCREVA “O valor do aumento é: “, aumento\n",
        "    novo_sal = salario + aumento\n",
        "    ESCREVA “O novo salário é: “, novo_sal\n",
        "SENÃO SE cargo == 2\n",
        "    ESCREVA “O cargo é Secretário”\n",
        "    aumento = salario * 35 / 100\n",
        "    ESCREVA “O valor do aumento é: “, aumento\n",
        "    novo_sal = salario + aumento\n",
        "    ESCREVA “O novo salário é: “, novo_sal]\n",
        "SENÃO SE cargo == 3\n",
        "    ESCREVA “O cargo é Caixa”\n",
        "    aumento = salario * 20 / 100\n",
        "    ESCREVA “O valor do aumento é: “, aumento\n",
        "    novo_sal = salario + aumento\n",
        "    ESCREVA “O novo salário é: “,novo_sal\n",
        "SENÃO SE cargo == 4\n",
        "    ESCREVA “O cargo é Gerente”\n",
        "    aumento = salario * 10 / 100\n",
        "    ESCREVA “O valor do aumento é: “, aumento\n",
        "    novo_sal = salario + aumento\n",
        "    ESCREVA “O novo salário é: “, novo_sal\n",
        "SENÃO SE cargo == 5\n",
        "    ESCREVA “O cargo é Diretor”\n",
        "    aumento = salario * 0 / 100\n",
        "    ESCREVA “O valor do aumento é: “, aumento\n",
        "    novo_sal = salario + aumento\n",
        "    ESCREVA “O novo salário é: “, novo_sal\n",
        "```"
      ]
    },
    {
      "cell_type": "code",
      "metadata": {
        "id": "Akw301nvxDG0",
        "colab": {
          "base_uri": "https://localhost:8080/"
        },
        "outputId": "5f6b9dcb-6e77-489f-c4b8-90810e34a954"
      },
      "source": [
        "print('Digite abaixo o número código correspondente a sua função na empresa e salário')\n",
        "cargo = int(input('Digite o código: '))\n",
        "salario = float(input('Digite seu salário: '))\n",
        "if cargo == 1:\n",
        "    print('O cargo é Escriturário')\n",
        "    aumento = salario * 50 / 100\n",
        "    print(f'O valor do aumento é R${aumento}')\n",
        "    novo_salario = salario + aumento\n",
        "    print(f'O novo salário é R${novo_salario}')\n",
        "elif cargo == 2:\n",
        "    print('O cargo é Secretário')\n",
        "    aumento = salario * 35 / 100\n",
        "    print(f'O valor do aumento é R${aumento}')\n",
        "    novo_salario = salario + aumento\n",
        "    print(f'O novo salário é R${novo_salario}')\n",
        "elif cargo == 3:\n",
        "    print('O cargo é Caixa')\n",
        "    aumento = salario * 20 / 100\n",
        "    print(f'O valor do aumento é R${aumento}')\n",
        "    novo_salario = salario + aumento\n",
        "    print(f'O novo salário é R${novo_salario}')\n",
        "elif cargo == 4:\n",
        "    print('O cargo é Gerente')\n",
        "    aumento = salario * 10 / 100\n",
        "    print(f'O valor do aumento é R${aumento}')\n",
        "    novo_salario = salario + aumento\n",
        "    print(f'O novo salário é R${novo_salario}')\n",
        "elif cargo == 5:\n",
        "    print('O cargo é Diretor')\n",
        "    aumento = salario * 0 / 100\n",
        "    print(f'O valor do aumento é R${aumento}')\n",
        "    novo_salario = salario + aumento\n",
        "    print(f'O novo salário é R${novo_salario}')"
      ],
      "execution_count": null,
      "outputs": [
        {
          "output_type": "stream",
          "name": "stdout",
          "text": [
            "Digite abaixo o número código correspondente a sua função na empresa e salário\n",
            "Digite o código: 4\n",
            "Digite seu salário: 14500\n",
            "O cargo é Gerente\n",
            "O valor do aumento é R$1450.0\n",
            "O novo salário é R$15950.0\n"
          ]
        }
      ]
    },
    {
      "cell_type": "markdown",
      "metadata": {
        "id": "wKORNMrWxDQs"
      },
      "source": [
        "### 24. Faça um programa que apresente o menu a seguir, permita ao usuário escolher a opção desejada, receba os dados necessários para executar a operação e mostre o resultado. Verifique a possibilidade de opção inválida e não se preocupe com restrições, como salário negativo.\n",
        "\n",
        "    Menu de opções\n",
        "    1. Imposto\n",
        "    2. Novo salário\n",
        "    3. Classificação\n",
        "    Digite a opção desejada:\n",
        "\n",
        "*Na opção 1: receber o salário de um funcionário, calcular e mostrar o valor do imposto usando as regras a seguir.*\n",
        "\n",
        "  |SALÁRIO|PERCENTUAL DO IMPOSTO|\n",
        "  |---|---|\n",
        "  |Menor que  500,00|5%|\n",
        "  |De  500,00 (inclusive) a  850,00 (inclusive)|10%|\n",
        "  |Acima de  850,00|15%|\n",
        "\n",
        "*Na opção 2: receber o salário de um funcionário, calcular e mostrar o valor do novo salário, usando as regras a seguir.*\n",
        "\n",
        "  |SALÁRIO|AUMENTO|\n",
        "  |---|---|\n",
        "  |Maior que  1.500,00| 25,00|\n",
        "  |De  750,00 (inclusive) a  1.500,00 (inclusive)| 50,00|\n",
        "  |De  450,00 (inclusive) a  750,00| 75,00|\n",
        "  |Menor que  450,00| 100,00|\n",
        "\n",
        "*Na opção 3: receber o salário de um funcionário e mostrar sua classificação usando a tabela a seguir.*\n",
        "\n",
        "|SALÁRIO|CLASSIFICAÇÃO|\n",
        "|---|---|\n",
        "|Até  700,00 (inclusive)|Mal remunerado|\n",
        "|Maiores que  700,00|Bem remunerado|\n"
      ]
    },
    {
      "cell_type": "code",
      "metadata": {
        "id": "LsX6cPFdxFxe",
        "colab": {
          "base_uri": "https://localhost:8080/"
        },
        "outputId": "bbdba2a0-a256-4dfe-f0f2-58e733091c86"
      },
      "source": [
        "print('Menu de opções')\n",
        "print('1 - Imposto; 2 - Novo salário: 3 - Classificação')\n",
        "escolha = int(input('Digite a sua escolha: '))\n",
        "if escolha == 1:\n",
        "    salario = float(input('Digite seu salário: R$'))\n",
        "    if salario < 500:\n",
        "        percent_imposto = salario * 5 / 100\n",
        "        print(f'O imposto sobre o salário de R${salario} é de {percent_imposto}')\n",
        "    elif salario >= 500 or salario <= 850:\n",
        "        percent_imposto = salario * 10 / 100\n",
        "        print(f'O imposto sobre o salário de R${salario} é de {percent_imposto}')\n",
        "    elif salario >= 850:\n",
        "        percent_imposto = salario * 15 / 100\n",
        "        print(f'O imposto sobre o salário de R${salario} é de {percent_imposto}')\n",
        "if escolha == 2:\n",
        "    salario = float(input('Digite seu salário: R$'))\n",
        "    if salario < 450:\n",
        "        aumento = 100\n",
        "        novo_salario = salario + aumento\n",
        "        print(f'O seu novo salário com o aumetno é de R${novo_salario}')\n",
        "    elif salario > 450 or salario <= 750:\n",
        "        aumento = 75\n",
        "        novo_salario = salario + aumento\n",
        "        print(f'O seu novo salário com o aumetno é de R${novo_salario}')\n",
        "    elif salario > 750 or salario <= 1500:\n",
        "        aumento = 50\n",
        "        novo_salario = salario + aumento\n",
        "        print(f'O seu novo salário com o aumetno é de R${novo_salario}')\n",
        "    elif salario >= 1500 :\n",
        "        aumento = 25\n",
        "        novo_salario = salario + aumento\n",
        "        print(f'O seu novo salário com o aumetno é de R${novo_salario}')\n",
        "if escolha == 3:\n",
        "    salario = float(input('Digite seu salário: R$'))\n",
        "    if salario <= 700:\n",
        "        print('Você é mal remunerado')\n",
        "    elif salario > 700:\n",
        "        print('Você é bem remunerado')"
      ],
      "execution_count": null,
      "outputs": [
        {
          "output_type": "stream",
          "name": "stdout",
          "text": [
            "Menu de opções\n",
            "1 - Imposto; 2 - Novo salário: 3 - Classificação\n",
            "Digite a sua escolha: 2\n",
            "Digite seu salário: R$1750\n",
            "O seu novo salário com o aumetno é de R$1825.0\n"
          ]
        }
      ]
    },
    {
      "cell_type": "markdown",
      "metadata": {
        "id": "pNlvJKW5xF6H"
      },
      "source": [
        "###25. Faça um programa que receba o salário inicial de um funcionário, calcule e mostre o novo salário, acrescido de bonificação e de auxílio escola.\n",
        "\n",
        "|SALÁRIO|BONIFICAÇÃO|\n",
        "|---|---|\n",
        "|Até  500,00|5% do salário|\n",
        "|Entre  500,00 e 1.200,00|12% do salário|\n",
        "|Acima de  1.200,00|Sem bonificação|\n",
        ">\n",
        "|SALÁRIO|AUXÍLIO ESCOLA|\n",
        "|---|---|\n",
        "|Até  600,00| 150,00|\n",
        "|Acima de  600,00| 100,00|\n",
        "\n",
        "novo_salario = salario + bonificacao + auxílio escola"
      ]
    },
    {
      "cell_type": "code",
      "metadata": {
        "id": "m2EJlS2IxIrf",
        "colab": {
          "base_uri": "https://localhost:8080/"
        },
        "outputId": "dba87c06-6894-4c06-ae4a-7eb6b657d8c4"
      },
      "source": [
        "salario = float(input('Digite seu salário: '))\n",
        "if salario <= 500:\n",
        "    auxilio_escola = 150\n",
        "    if salario <= 500 and auxilio_escola == 150:\n",
        "        bonificacao = salario * 0.05\n",
        "        novo_salario = salario + bonificacao + auxilio_escola\n",
        "        print(f'Seu novo salário é de {novo_salario}')\n",
        "elif salario >= 500 and salario <= 1200:\n",
        "    auxilio_escola = 100\n",
        "    if salario <= 600 and auxilio_escola == 150 or salario > 600 and auxilio_escola == 100:\n",
        "        bonificacao = salario * 0.12\n",
        "        novo_salario = salario + bonificacao + auxilio_escola\n",
        "        print(f'Seu novo salário é de {novo_salario}')\n",
        "elif salario >= 1200:\n",
        "    auxilio_escola = 100\n",
        "    if salario > 600 and auxilio_escola == 100:\n",
        "        novo_salario = salario + auxilio_escola\n",
        "        print(f'Seu novo salário é de {novo_salario}')\n",
        "\n",
        ""
      ],
      "execution_count": null,
      "outputs": [
        {
          "output_type": "stream",
          "name": "stdout",
          "text": [
            "Digite seu salário: 1400\n",
            "Seu novo salário é de 1500.0\n"
          ]
        }
      ]
    },
    {
      "cell_type": "markdown",
      "metadata": {
        "id": "fA_TpNq4xI0h"
      },
      "source": [
        "### 26. Faça um programa que receba o valor do salário mínimo, o número de horas trabalhadas, o número de dependentes do funcionário e a quantidade de horas extras trabalhadas. Calcule e mostre o salário a receber do funcionário de acordo com as regras a seguir:\n",
        "\n",
        "  * O valor da hora trabalhada é igual a 1/5 do salário mínimo.\n",
        "  * O salário do mês é igual ao número de horas trabalhadas multiplicado pelo valor da hora trabalhada.\n",
        "  * Para cada dependente, acrescentar  32,00.\n",
        "  * Para cada hora extra trabalhada, calcular o valor da hora * trabalhada acrescida de 50%.\n",
        "  * O salário bruto é igual ao salário do mês mais o valor dos dependentes mais o valor das horas extras.\n",
        "  * Calcular o valor do impostoosto de renda retido na fonte de acordo com a tabela a seguir:\n",
        "\n",
        "|IRFF|SALÁRIO BRUTO|\n",
        "|---|---|\n",
        "|Isento|Inferior a  200,00|\n",
        "|10%|De  200,00 até 500,00|\n",
        "|20%|Superior a  500,00|\n",
        "\n",
        "  * O salário líquido é igual ao salário bruto menos IRRF.\n",
        "  * A gratificação é de acordo com a tabela a seguir:\n",
        "\n",
        "|SALÁRIO LÍQUIDO|GRATIFICAÇÃO|\n",
        "|---|---|\n",
        "|Até 350,00| 100,00|\n",
        "|Superior a  350| 50,00|\n",
        "\n",
        "  * O salário a receber do funcionário é igual ao salário líquido mais a gratificação.\n",
        "\n",
        "  ```code\n",
        "  LEIA salario_minimo, numero_horas_trabalhadas, numero_dependentes, numero_horas_extras\n",
        "  \n",
        "  valor_hora = 1/5 * salario_minimo\n",
        "  salario_mes = numero_horas_trabalhadas * valor_hora\n",
        "  valor_dependentes = 32 * numero_dependentes\n",
        "  valor_hora_extra = numero_horas_extras * (valor_hora + (valor_hora * 50/100))\n",
        "  salario_bruto =salario_mes + valor_dependentes + valor_hora_extra\n",
        "  \n",
        "  SE salario_bruto < 200\n",
        "        imposto = 0\n",
        "  SENÃO SE salario_bruto >= 200 E salario_bruto <= 500\n",
        "        imposto = salario_bruto * 10/100\n",
        "  SENÃO SE salario_bruto > 500\n",
        "        imposto = salario_bruto * 20/100\n",
        "  salario_liquido = salario_bruto – imposto\n",
        "  SE salario_liquido <= 350\n",
        "        gratificacao = 100\n",
        "  SENÃO\n",
        "        gratificacao = 50\n",
        "  salario_a_receber = salario_liquido + gratificacao\n",
        "  \n",
        "  ESCREVA salario_a_receber\n",
        "  ```"
      ]
    },
    {
      "cell_type": "code",
      "metadata": {
        "id": "3eECKlHfxLK5"
      },
      "source": [
        "# Digite seu código aqui"
      ],
      "execution_count": null,
      "outputs": []
    },
    {
      "cell_type": "markdown",
      "metadata": {
        "id": "MuKRkPA9xLVE"
      },
      "source": [
        "### 27 Um supermercado deseja reajustar os preços de seus produtos usando o seguinte critério: o produto poderá ter seu preço aumentado ou diminuído. Para o preço ser alterado, o produto deve preencher pelo menos um dos requisitos a seguir:\n",
        "\n",
        "|VENDA MÉDIA MENSAL|PREÇO ATUAL|% DE AUMENTO|% DE DIMINUIÇÃO|\n",
        "|---|--|---|---|\n",
        "|< 500|<  30000|10|-|\n",
        "|\\>= 500 e <1200|\\>=  30.00 e <  80.00|15|-|\n",
        "|\\>= 1200|\\>=  80.00|-|20|\n",
        "\n",
        "* Faça um programa que receba o preço atual e a venda média mensal do produto, calcule e mostre o novo preço.\n",
        "\n",
        "```code\n",
        "LEIA preco_atual, media_mensal_vendas\n",
        "\n",
        "SE media_mensal_vendas < 500 OU preco_atual < 30\n",
        "    novo_preco = preco_atual + 10/100 * preco_atual\n",
        "SENÃO SE media_mensal_vendas >= 500 E media_mensal_vendas < 1200 OU preco_atual >= 30 E preco_atual<80\n",
        "    novo_preco = preco_atual + 15 / 100 * preco_atual\n",
        "SENÃO SE venda >= 1200 OU preco_atual >= 80\n",
        "    novo_preco = preco_atual – 20 / 100 * preco_atual\n",
        "      \n",
        "ESCREVA novo_preco\n",
        "```"
      ]
    },
    {
      "cell_type": "code",
      "metadata": {
        "id": "yzIzUTc7xNmr"
      },
      "source": [
        "# Digite seu código aqui"
      ],
      "execution_count": null,
      "outputs": []
    },
    {
      "cell_type": "markdown",
      "metadata": {
        "id": "X-eT0SRdxNwk"
      },
      "source": [
        "### 28. Faça um programa para resolver equações do 2 o grau.\n",
        "\n",
        "**ax² + bx + c = 0**\n",
        "\n",
        "A variável *a* deve ser diferente de zero*\n",
        "\n",
        "  * delta = b ** 2 - 4 * a * c\n",
        "  * delta < 0.  **Não existe raiz real**\n",
        "  * delta = 0. **Existe uma raiz real**\n",
        "    * x = (-b) / (2 * a)\n",
        "  * delta > 0. **Existem duas raízes reais**\n",
        "    * x1 = -b + raiz(delta)/ (2 * a)\n",
        "    * x2 = -b  - raiz(delta)/ (2 * a)\n",
        "\n",
        "```code\n",
        "LEIA a, b, c\n",
        "SE a = 0\n",
        "    ESCREVA “Estes valores não formam uma equação de segundo grau”\n",
        "SENÃO\n",
        "    delta = (b * b) – ( 4 * a * c)\n",
        "    SE delta < 0\n",
        "        ESCREVA “Não existe raiz real”\n",
        "    SE delta = 0\n",
        "        ESCREVA “Existe uma raiz real”\n",
        "        x1 = (– b) / (2 * a)\n",
        "        ESCREVA x1\n",
        "    SE delta > 0\n",
        "        ESCREVA “Existem duas raízes reais”\n",
        "        x1 = (– b) + raiz(delta) / (2 * a)\n",
        "        x2 = (– b) - raiz(delta) / (2 * a)\n",
        "        ESCREVA(x1, x2)\n",
        "```"
      ]
    },
    {
      "cell_type": "code",
      "metadata": {
        "id": "DAhDbbkaxTAS"
      },
      "source": [
        "# Digite seu código aqui"
      ],
      "execution_count": null,
      "outputs": []
    },
    {
      "cell_type": "markdown",
      "metadata": {
        "id": "PrDtckwwxTK6"
      },
      "source": [
        "### 29. Dados três valores X, Y e Z, verifique se eles podem ser os comprimentos dos lados de um triângulo e, se forem, verifique se é um triângulo equilátero, isósceles ou escaleno. Se eles não formarem um triângulo, escreva uma mensagem.\n",
        "Considere que:\n",
        "* o comprimento de cada lado de um triângulo é menor que a soma dos outros dois lados;\n",
        "* chama-se equilátero o triângulo que tem três lados iguais;\n",
        "* denomina-se isósceles o triângulo que tem o comprimento de dois lados iguais;\n",
        "* recebe o nome de escaleno o triângulo que tem os três lados diferentes.\n",
        "\n",
        "```code\n",
        "LEIA x, y, z\n",
        "SE x < y + z E y < x + z E z < x + y\n",
        "    SE x = y E y = z\n",
        "        ESCREVA “Triângulo Equilátero”\n",
        "    SENÃO SE x = y OU x = z OU y = z\n",
        "        ESCREVA “Triângulo Isósceles”\n",
        "    SENÃO SE x ≠ y E x ≠ z E y ≠ z\n",
        "        ESCREVA “Triângulo Escaleno”\n",
        "SENÃO\n",
        "    ESCREVA “Essas medidas não formam um triângulo”\n",
        "```"
      ]
    },
    {
      "cell_type": "code",
      "metadata": {
        "id": "72Ljhi6lxyco"
      },
      "source": [
        "# Digite seu código aqui"
      ],
      "execution_count": null,
      "outputs": []
    },
    {
      "cell_type": "markdown",
      "metadata": {
        "id": "mCpnRwCvxymh"
      },
      "source": [
        "### 30. Faça um programa que receba a altura e peso de uma pessoa. De acordo com a tabela a seguir, verifique e mostre a classificação dessa pessoa.\n",
        "\n",
        "|ALTURA|ATÉ 60|ENTRE 60 E 90 (INCLUSIVE)|ACIMA DE 90|\n",
        "|---|---|---|---|\n",
        "|Menores que 1,20|A|D|G|\n",
        "|De 1,20 a 1,70|B|E|H|\n",
        "|Maiores que 1,70|C|F|I|\n",
        "\n",
        "```code\n",
        "LEIA altura, peso\n",
        "SE altura < 1.20\n",
        "    SE peso <= 60\n",
        "        ESCREVA “A”\n",
        "    SENÃO SE peso > 60 E peso <= 90\n",
        "        ESCREVA “D”\n",
        "    SENÃO SE peso > 90\n",
        "        ESCREVA “G”\n",
        "SENÃO SE altura >= 1.20 E altura <= 1.70\n",
        "    SE peso <= 60\n",
        "        ESCREVA “B”\n",
        "    SENÃO SE peso > 60 E peso <= 90\n",
        "        ESCREVA “E”\n",
        "    SENÃO SE peso > 90\n",
        "        ESCREVA “H”\n",
        "SENÃO SE altura > 1.70\n",
        "    SE peso <= 60\n",
        "        ESCREVA “C”\n",
        "    SENÃO SE peso > 60 E peso <= 90\n",
        "        EESCREVA “F”\n",
        "    SENÃO SE peso > 90\n",
        "        ESCREVA “I”\n",
        "```"
      ]
    },
    {
      "cell_type": "code",
      "metadata": {
        "id": "SXLzbTf6x4pi"
      },
      "source": [
        "# Digite seu código aqui"
      ],
      "execution_count": null,
      "outputs": []
    },
    {
      "cell_type": "markdown",
      "metadata": {
        "id": "ydBS_HyAx40L"
      },
      "source": [
        "### 31. Faça um programa que receba:\n",
        "\n",
        "* O código de um produto comprado, supondo que a digitação do código do produto seja sempre válida, isto é, um número * inteiro entre 1 e 10.\n",
        "* O peso do produto em quilos.\n",
        "* O código do país de origem, supondo que a digitação do  código seja sempre válida, isto é, um número inteiro entre 1 e 3.\n",
        "\n",
        "|CÓDIGO DO PAÍS DE ORIGEM|IMPOSTO|\n",
        "|---|---|\n",
        "|1|0%|\n",
        "|2|15%|\n",
        "|3|25%|\n",
        "\n",
        "|CÓDIGO DO PAÍS DO PRODUTO|PREÇO POR GRAMA|\n",
        "|---|---|\n",
        "|1 a 4|10|\n",
        "|5 a 7|25|\n",
        "|8 a 10|35|\n",
        "\n",
        "Calcule e mostre:\n",
        "* o peso do produto convertido em gramas;\n",
        "* o preço total do produto comprado;\n",
        "* valor do imposto, sabendo que ele é cobrado sobre o * preço total do produto comprado e dependendo país de origem;\n",
        "* o valor total, preço total do produto mais imposto.\n",
        "\n",
        "```code\n",
        "LEIA codigo_produto, peso_quilos, codigo_pais\n",
        "peso_em_gramas = peso_quilos * 1000\n",
        "ESCREVA peso_em_gramas\n",
        "SE codigo_produto >= 1 E codigo_produto <= 4\n",
        "   preco_por_grama = 10\n",
        "SENÃO SE codigo_produto >= 5 E codigo_produto <= 7\n",
        "   preco_por_grama = 25\n",
        "SENÃO SE codigo_produto >= 8 E codigo_produto <= 10\n",
        "   preco_por_grama = 35    \n",
        "preco_total = peso_em_gramas *preco_por_grama\n",
        "ESCREVA preco_total\n",
        "SE codigo_pais = 1\n",
        "    imposto = 0\n",
        "SENÃO SE codigo_pais = 2\n",
        "    imposto = preco_total * 15/100\n",
        "SENÃO SE codigo_pais = 3\n",
        "    imposto = preco_total * 25/100    \n",
        "ESCREVA imposto\n",
        "valor_total = preco_total + imposto\n",
        "ESCREVA valor_total\n",
        "```"
      ]
    },
    {
      "cell_type": "code",
      "metadata": {
        "id": "hZvxJNadx7dp"
      },
      "source": [
        "# Digite seu código aqui"
      ],
      "execution_count": null,
      "outputs": []
    },
    {
      "cell_type": "markdown",
      "metadata": {
        "id": "XyWancSmx7l5"
      },
      "source": [
        "### 32. Faça um programa que receba:\n",
        "* o código do estado de origem da carga de um caminhão, supondo que a digitação do código do estado seja sempre válida, isto é, um número inteiro entre 1 e 5;\n",
        "* o peso da carga do caminhão em toneladas;\n",
        "* o código da carga, supondo que a digitação do código seja sempre válida, isto é, um número inteiro entre 10 e 40.\n",
        "\n",
        "| CÓDIGO DO ESTADO| IMPOSTO|\n",
        "|---|---|\n",
        "|1|35%|\n",
        "|2|25%|\n",
        "|3|15%|\n",
        "|4|5%|\n",
        "|5|Isento|\n",
        ">\n",
        "CÓDIGO DA CARGA|PREÇO POR QUILO\n",
        "---|---\n",
        "10 a 20|100\n",
        "21 a 30|250\n",
        "31 a 40|400\n",
        "\n",
        "Calcule e mostre:\n",
        "* o peso da carga do caminhão convertido em quilos;\n",
        "* o preço da carga do caminhão;\n",
        "* o valor do imposto, sabendo que o imposto é cobrado sobre o preço da carga do caminhão e depende do estado de origem;\n",
        "* o valor total transportado pelo caminhão, preço da carga mais imposto.\n",
        "\n",
        "```\n",
        "LEIA codigo_estado, peso_em_toneladas, codigo_carga\n",
        "peso_em_quilos = peso_em_toneladas * 1000\n",
        "ESCREVA peso_em_quilos\n",
        "SE codigo_carga >= 10 E codigo_carga <= 20\n",
        "    preco_da_carga = 100 * peso_em_quilos\n",
        "SENÃO SE codigo_carga >= 21 E codigo_carga <= 30\n",
        "    preco_da_carga = 250 * peso_em_quilos\n",
        "SENÃO SE codigo_carga >= 31 E codigo_carga <= 40\n",
        "    preco_da_carga = 340 * peso_em_quilos   \n",
        "ESCREVA preco_da_carga\n",
        "SE codigo_estado = 1\n",
        "    imposto = 35/100 * preco_da_carga\n",
        "SENÃO SE codigo_estado = 2\n",
        "    imposto = 25/100 * preco_da_carga\n",
        "SENÃO SE codigo_estado = 3\n",
        "    imposto = 15/100 * preco_ds_carga\n",
        "SENÃO SE codigo_estado = 4\n",
        "    imposto = 5/100 * preco_da_carga\n",
        "SENÃO SE codigo_estado = 5\n",
        "    imposto = 0\n",
        "ESCREVA imposto\n",
        "valor_total = preco_da_carga + imposto\n",
        "ESCREVA valor_total\n",
        "```"
      ]
    },
    {
      "cell_type": "code",
      "metadata": {
        "id": "JCjrCJ9Gx8X3"
      },
      "source": [
        "# Digite seu código aqui"
      ],
      "execution_count": null,
      "outputs": []
    },
    {
      "cell_type": "markdown",
      "metadata": {
        "id": "bBmw7JBQx8iH"
      },
      "source": [
        "### 33. Faça um programa que receba o salário base e o tempo de serviço de um funcionário. Calcule e mostre:\n",
        "* O imposto, conforme a tabela a seguir.\n",
        "\n",
        "|SALÁRIO BASE|% SOBRE O SALÁRIO BASE|\n",
        "|---|---|\n",
        "|< 200|isento|\n",
        "|>= 250 E <= 450|3%|\n",
        "|>  450 E < 700|8%|\n",
        "|>=  700|12%|\n",
        "\n",
        "* A gratificação, de acordo com a tabela a seguir.\n",
        "\n",
        "SALÁRIO BASE R$|TEMPO DE SERVIÇO|GRATIFICAÇÃO\n",
        "---|---|---\n",
        "Superior a 500,00|Até 3 anos|20\n",
        " | Mais de 3 anos|30\n",
        "  --------------------------|---------|--------------\n",
        "Até 500,00|Até 3 anos|23\n",
        "|Entre 3 e 6 anos|35\n",
        "|Acima de 6 anos|33\n",
        "\n",
        "* O salário líquido, ou seja, salário base menos imposto mais gratificação.\n",
        "* A categoria, que está na tabela a seguir.\n",
        "\n",
        "```\n",
        "LEIA salario_base, tempo\n",
        "\n",
        "SE salario_base < 200\n",
        "    imposto = 0\n",
        "SENÃO SE salario_base <= 450\n",
        "    imposto = 3/100 * salario_base\n",
        "SENÃO SE sal_base < 700\n",
        "    imposto = 8/100 * salario_base\n",
        "SENÃO\n",
        "    imposto = 12/100 * salario_base\n",
        "ESCREVA imposto\n",
        "SE salario_base > 500\n",
        "    SE tempo <= 3\n",
        "         gratificacao = 20\n",
        "    SENÃO\n",
        "        gratificacao = 30\n",
        "SENÃO\n",
        "    SE tempo <= 3\n",
        "        gratificacao = 23\n",
        "    SENÃO SE tempo < 6\n",
        "        gratificacao = 35\n",
        "    SENÃO gratificacao = 33\n",
        "ESCREVA gratificacao\n",
        "salario_liquido = salario_base – imposto + gratificacao\n",
        "ESCREVA salario_liqquido\n",
        "SE salario_liquido <= 350\n",
        "    ESCREVA “Classificação A”\n",
        "SENÃO SE salario_liqquido < 600\n",
        "    ESCREVA “Classificação B”\n",
        "SENÃO\n",
        "    ESCREVA “Classificação C”\n",
        "```"
      ]
    },
    {
      "cell_type": "code",
      "metadata": {
        "id": "xhj04HVix_LL"
      },
      "source": [
        "# Digite seu código aqui"
      ],
      "execution_count": null,
      "outputs": []
    },
    {
      "cell_type": "markdown",
      "metadata": {
        "id": "HdSARhTlx_VV"
      },
      "source": [
        "### 34. Faça um programa que:\n",
        "* receba o valor do salário mínimo,\n",
        "* o turno de trabalho (M — matutino; V — vespertino; ou N — noturno),\n",
        "* a categoria (O — operário; G — gerente)\n",
        "* número de horas trabalhadas no mês de um funcionário.\n",
        "\n",
        "*Suponha a digitação apenas de dados válidos e, quando houver digitação de letras, utilize maiúsculas.*\n",
        "\n",
        "**Calcule e mostre:**\n",
        "\n",
        "* O coeficiente do salário, de acordo com a tabela a seguir.\n",
        "\n",
        "TURNO DE TRABALHO|VALOR DO COEFICIENTE\n",
        "---|---\n",
        "M - Matutino|10% do salário mínimo\n",
        "V - Vespertino|15% do salário mínimo\n",
        "N - Noturno|20% do salário mínimo\n",
        "\n",
        "* O valor do salário bruto, ou seja, o número de horas trabalhadas multiplicado pelo valor do coeficiente do salário.\n",
        "\n",
        "* O imposto, de acordo com a tabela a seguir.\n",
        "\n",
        "CATEGORIA| SALÁRIO BRUTO|IMPOSTO SOBRE O SALÁRIO BRUTO\n",
        "---|---|---\n",
        "O - Operário|>= 300,00|5%\n",
        "O - Operário|< 300,00|3%\n",
        "G - Gerente|>= 300,00|6%\n",
        "G - Gerente|< 300,00|4%\n",
        "\n",
        "* A gratificação, de acordo com as regras a seguir. Se o funcionário preencher todos os requisitos a seguir, sua gratificação será de 50,00; caso contrário, será de 30,00. Os requisitos são:\n",
        " * Turno: Noturno\n",
        "  * Número de horas trabalhadas: Superior a 80 horas\n",
        "  * O auxílio alimentação, de acordo com as seguintes regras.\n",
        "* Auxilio alimentação, um terço do seu salário bruto; caso contrário, será de metade do seu salário bruto. Os requisitos são:\n",
        "  * Se o funcionário preencher algum dos requisitos a seguir, seu auxílio alimentação será de\n",
        "  * Categoria: Operário\n",
        "  * Coeficiente do salário: < = 25\n",
        "* O salário líquido, ou seja, salário bruto menos imposto mais gratificação mais auxílio alimentação.\n",
        "* A classificação, de acordo com a tabela a seguir:\n",
        "\n",
        "SALÁRIO LÍQUIDO|MENSAGEM\n",
        "---|---\n",
        "Menor que 350,00|Mal remunerado\n",
        "Entre 350 e 600,00|Normal\n",
        "Maior que 600,00|Bem remunerado\n",
        "\n",
        "```\n",
        "LEIA salario_minino, turno, categoria, numero_de_horas_trabalhadas\n",
        "SE turno = “M”\n",
        "     coeficiente = 10/100 * salario_minino\n",
        "SENÃO SE turno = “V”\n",
        "     coeficiente = 15/100 * salario_minino\n",
        "SENÃO SE turno = “N”\n",
        "     coeficiente = 12/100 * salario_minino\n",
        "     \n",
        "ESCREVA coeficiente\n",
        "\n",
        "salario_bruto = numero_de_horas_trabalhadas * coeficiente\n",
        "\n",
        "ESCREVA salario_bruto\n",
        "\n",
        "SE categoria = “O”\n",
        "    SE sal_bruto >= 300\n",
        "        imposto = 5/100 * sal_bruto\n",
        "    SENÃO\n",
        "        imposto = 3/100 * sal_bruto\n",
        "SENÃO\n",
        "    SE salario_bruto >= 400\n",
        "        imposto = 6/100 * salario_bruto\n",
        "    SENÃO\n",
        "         imposto = 4/100 * salario_bruto\n",
        "         \n",
        "ESCREVA imposto\n",
        "\n",
        "SE turno = “N” E numero_de_horas_trabalhadas > 80\n",
        "    gratificacao = 50\n",
        "SENÃO\n",
        "    gratificacao = 30\n",
        "    \n",
        "ESCREVA gratificacao\n",
        "\n",
        "SE categoria = “O” OU coeficiente <= 25\n",
        "    auxilio = 1/3 * salario_bruto\n",
        "SENÃO\n",
        "    auxilio = 1/2 * salario_bruto\n",
        "    \n",
        "ESCREVA auxilio\n",
        "\n",
        "salario_liquido = salario_bruto – imposto + gratificacao + auxilio\n",
        "\n",
        "ESCREVA salario_liquido\n",
        "\n",
        "SE salario_liquido < 350\n",
        "     ESCREVA “Mal Remunerado”\n",
        "SENÃO SE salario_liquido >= 350 E salario_liqquido <= 600\n",
        "     ESCREVA “Normal”\n",
        "SENÃO SE salario_liquido > 600\n",
        "     ESCREVA “Bem Remunerado”\n",
        "```"
      ]
    },
    {
      "cell_type": "code",
      "metadata": {
        "id": "RxtqQbAIyC54"
      },
      "source": [
        "# Digite seu código aqui"
      ],
      "execution_count": null,
      "outputs": []
    },
    {
      "cell_type": "markdown",
      "metadata": {
        "id": "c2dARliMyDDG"
      },
      "source": [
        "### 35. Faça um programa que receba de um produto:\n",
        "* o preço\n",
        "* o tipo (A — alimentação; L — limpeza; e V — vestuário)\n",
        "* a refrigeração (S — produto que necessita de refrigeração; e N — produto que não necessita de refrigeração) .\n",
        "\n",
        "**Suponha que haverá apenas a digitação de dados válidos e, quando houver digitação de letras, utilize maiúsculas. Calcule e mostre:**\n",
        "\n",
        "* O valor adicional, de acordo com a tabela a seguir:\n",
        "\n",
        "REFRIGERAÇÃO|TIPO|PREÇO|VALOR ADICIONAL\n",
        "---|---|---|---\n",
        "N|A|<  15,00|2,00|\n",
        " | |>= 15,00|5,00|\n",
        " |---------|--------------|-------------------------------\n",
        " |L|< 10,00|1,50\n",
        " | |>= 10,00|2,50\n",
        "  |---------|--------------|-------------------------------\n",
        " |V|< 30,00|3,00\n",
        " ||>= 30,00|2,50\n",
        "  --------------------------|---------|--------------|-------------------------------\n",
        "S|A||8,00\n",
        "|L||0,00\n",
        "|V||0,00\n",
        "\n",
        "* O valor do imposto, de acordo com a regra a seguir.\n",
        "\n",
        "PREÇO|PERCENTUAL SOBRE O PREÇO\n",
        "---|---\n",
        "< 25,00|5%\n",
        ">= 25,00|8%\n",
        "\n",
        "O preço de custo, ou seja, preço mais imposto.\n",
        "O desconto, de acordo com a regra a seguir.\n",
        "\n",
        "O produto que não preencher nenhum dos requisitos a seguir terá desconto de 3%, caso contrário, 0 (zero). Os requisitos são:\n",
        "* Tipo: A\n",
        "* Refrigeração: S\n",
        "\n",
        "* O novo preço, ou seja, preço de custo mais adicional menos desconto.\n",
        "* A classificação, de acordo com a regra a seguir.\n",
        "\n",
        "NOVO PREÇO|CLASSIFICAÇÃO\n",
        "---|---\n",
        "<= 50,00|Barato\n",
        "Entre 50,00 e 100,00|Normal\n",
        ">= 100,00|Caro\n",
        "\n",
        "\n",
        "```\n",
        "LEIA pre, tipo, refrig\n",
        "SE refrig = “N”\n",
        "    SE tipo = “A”\n",
        "        SE pre < 15\n",
        "           valor_adic = 2\n",
        "        SENÃO\n",
        "           valor_adic = 5\n",
        "    SE tipo = “L”\n",
        "        SE pre < 10\n",
        "           valor_adic = 1.5\n",
        "        SENÃO\n",
        "           valor_adic = 2.5\n",
        "    SE tipo = “V”\n",
        "        SE pre < 30\n",
        "           valor_adic = 3\n",
        "        SENÃO\n",
        "           valor_adic = 2.5\n",
        "SENÃO SE tipo = “A”\n",
        "    valor_adic = 8\n",
        "    SE tipo = “L”\n",
        "        valor_adic = 0\n",
        "    SE tipo = “V”\n",
        "        valor_adic = 0\n",
        "ESCREVA valor_adic\n",
        "SE pre < 25\n",
        "    imposto = 5/100 * pré\n",
        "SENÃO\n",
        "    imposto = 8/100 * pre\n",
        "ESCREVA imposto\n",
        "pre_custo = pre + imposto\n",
        "ESCREVA pre_custo\n",
        "SE tipo != “A” E refrig != “S”\n",
        "  desconto = 3/100 * pre_custo\n",
        "SENÃO\n",
        "  desconto = 0\n",
        "ESCREVA desconto\n",
        "novo_pre = pre_custo + valor_adic – desconto\n",
        "ESCREVA novo_pre\n",
        "SE novo_pre <= 50\n",
        "    ESCREVA “Barato”\n",
        "SENÃO SE novo_pre < 100\n",
        "    ESCREVA “Normal”\n",
        "SENÃO\n",
        "    ESCREVA “Caro”\n"
      ]
    },
    {
      "cell_type": "code",
      "metadata": {
        "id": "2MKheAJMyGc5"
      },
      "source": [
        "# Digite seu código aqui"
      ],
      "execution_count": null,
      "outputs": []
    },
    {
      "cell_type": "markdown",
      "metadata": {
        "id": "L-VOnT4CyGl8"
      },
      "source": [
        "### 36. Faça um programa que receba a medida de um ângulo em graus. Calcule e mostre o quadrante em que se localiza esse ângulo. Considere os quadrantes da trigonometria e, para ângulos maiores que 360° ou menores que −360°, reduzí-los, mostrando também o número de voltas e o sentido da volta (horário ou anti-horário).\n",
        "```\n",
        "SE angulo > 360 OU angulo < -360\n",
        "    voltas = parte inteira(angulo / 360)    \n",
        "    angulo = RESTO(angulo / 360)\n",
        "SENÃO\n",
        "    voltas = 0\n",
        "SE angulo = 0 OU angulo = 90 OU angulo = 180\n",
        "           OU angulo = 270 OU angulo = 360\n",
        "           OU angulo = -90 OU angulo = -180\n",
        "           OU angulo = -270 OU angulo = -360\n",
        "  ESCREVA “Está em cima de algum dos eixos”\n",
        "  SE (angulo > 0 E angulo < 90) OU (angulo < -270 E angulo > -360)\n",
        "    ESCREVA “1o Quadrante”\n",
        "  SENÃO SE (angulo > 90 E angulo < 180) OU (angulo < -180 E angulo > -270)\n",
        "    ESCREVA “2o Quadrante”\n",
        "  SENÃO SE (angulo > 180 E angulo < 270) OU (angulo < -90 E angulo > -180)\n",
        "    ESCREVA “3o Quadrante”\n",
        "  SENÃO SE (angulo > 270 E angulo < 360) OU (angulo < 0 E angulo > -90)\n",
        "    ESCREVA “4o Quadrante”\n",
        "  ESCREVA voltas, “ volta(s) no sentido “\n",
        "SE angulo < 0\n",
        "    ESCREVA “horário”\n",
        "SENÃO\n",
        "    ESCREVA “anti-horário”\n",
        "```"
      ]
    },
    {
      "cell_type": "code",
      "metadata": {
        "id": "GjkV8-vWyJWb"
      },
      "source": [
        "# Digite seu código aqui"
      ],
      "execution_count": null,
      "outputs": []
    }
  ]
}