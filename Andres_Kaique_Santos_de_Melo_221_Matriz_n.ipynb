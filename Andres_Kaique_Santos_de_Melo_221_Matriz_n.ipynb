{
  "nbformat": 4,
  "nbformat_minor": 0,
  "metadata": {
    "colab": {
      "provenance": [],
      "include_colab_link": true
    },
    "kernelspec": {
      "name": "python3",
      "display_name": "Python 3"
    }
  },
  "cells": [
    {
      "cell_type": "markdown",
      "metadata": {
        "id": "view-in-github",
        "colab_type": "text"
      },
      "source": [
        "<a href=\"https://colab.research.google.com/github/KaiqueSandel/AlgoritimosFATEC/blob/main/Andres_Kaique_Santos_de_Melo_221_Matriz_n.ipynb\" target=\"_parent\"><img src=\"https://colab.research.google.com/assets/colab-badge.svg\" alt=\"Open In Colab\"/></a>"
      ]
    },
    {
      "cell_type": "markdown",
      "metadata": {
        "id": "skN-Wz61xZzi"
      },
      "source": [
        "### 1. Faça um programa que leia uma matriz 2x3 (2 linhas, 3 colunas). Apresente os elementos da matriz e seus respectivos índices."
      ]
    },
    {
      "cell_type": "code",
      "metadata": {
        "id": "Wbjafj_QxWP-",
        "colab": {
          "base_uri": "https://localhost:8080/"
        },
        "outputId": "70fe0aff-85c9-4e84-d1d8-6e0ffc7818db"
      },
      "source": [
        "matriz = [] # ................................................... Lendo a matriz\n",
        "for lin in range(2):\n",
        "    vet_linha = [] #..............................................inicializado o vetor/zerando\n",
        "    for col in range(3):\n",
        "        vet_linha.append(int(input('Digite o valor ['+ str(lin) + '][' + str(col) + ']: ')))\n",
        "        #soma = soma + linha[col]\n",
        "    matriz.append(vet_linha)\n",
        "\n",
        "\n",
        "#print da soma dos salários\n",
        "for lin in range(2):  # ...........................................Apresentando a matriz\n",
        "    for col in range(3):\n",
        "\t    print(matriz[lin][col], end='\\t')\n",
        "    print()\n",
        "\n",
        "for lin in range(2):\n",
        "    for col in range(3):\n",
        "\t    print(matriz[lin][col], 'Esta armazenado na linha', lin, 'e na coluna',col )\n",
        "    print()"
      ],
      "execution_count": null,
      "outputs": [
        {
          "output_type": "stream",
          "name": "stdout",
          "text": [
            "Digite o valor [0][0]: 7\n",
            "Digite o valor [0][1]: 8\n",
            "Digite o valor [0][2]: 6\n",
            "Digite o valor [1][0]: 5\n",
            "Digite o valor [1][1]: 9\n",
            "Digite o valor [1][2]: 0\n",
            "7\t8\t6\t\n",
            "5\t9\t0\t\n",
            "7 Esta armazenado na linha 0 e na coluna 0\n",
            "8 Esta armazenado na linha 0 e na coluna 1\n",
            "6 Esta armazenado na linha 0 e na coluna 2\n",
            "\n",
            "5 Esta armazenado na linha 1 e na coluna 0\n",
            "9 Esta armazenado na linha 1 e na coluna 1\n",
            "0 Esta armazenado na linha 1 e na coluna 2\n",
            "\n"
          ]
        }
      ]
    },
    {
      "cell_type": "markdown",
      "metadata": {
        "id": "0jPoba3-yLnG"
      },
      "source": [
        "### 2. Faça um programa que carregue uma matriz 2 x 2, que representa o salário de 4 funcionários, calcule e mostre a soma total de todos os elementos que será o montante pago pela empresa a esses funcionários."
      ]
    },
    {
      "cell_type": "code",
      "metadata": {
        "id": "UHD2oMlJyLzc",
        "colab": {
          "base_uri": "https://localhost:8080/"
        },
        "outputId": "8381022e-23ac-4475-9460-8015cfb8854f"
      },
      "source": [
        "matriz = []\n",
        "soma = 0\n",
        "for lin in range(2):\n",
        "    vet_linha =[]\n",
        "    for col in range(2):\n",
        "        vet_linha.append(float(input('Digite o salarío. ['+ str(lin) + '][' + str(col) + ']: ')))\n",
        "        soma = soma + vet_linha[col]\n",
        "    matriz.append(vet_linha)\n",
        "print(f'Montante pago de {soma}')\n",
        "for lin in range(2):\n",
        "    for col in range(2):\n",
        "        print(matriz[lin][col], end='\\t')\n",
        "    print()"
      ],
      "execution_count": null,
      "outputs": [
        {
          "output_type": "stream",
          "name": "stdout",
          "text": [
            "Digite o salarío. [0][0]: 1000\n",
            "Digite o salarío. [0][1]: 1000\n",
            "Digite o salarío. [1][0]: 1000\n",
            "Digite o salarío. [1][1]: 1000\n",
            "Montante pago de 4000.0\n",
            "1000.0\t1000.0\t\n",
            "1000.0\t1000.0\t\n"
          ]
        }
      ]
    },
    {
      "cell_type": "markdown",
      "metadata": {
        "id": "HAz_eYfhzg06"
      },
      "source": [
        "### 3. Faça um programa que carregue uma matriz 3 x 2, que representa preços de produtos, crie OUTRA matriz que armazene todos os preços com 7% de aumento."
      ]
    },
    {
      "cell_type": "code",
      "source": [
        "mat = []\n",
        "for lin in range(3):\n",
        "    vetor_linha = []\n",
        "    for col in range(2):\n",
        "        vetor_linha.append(float(input('Digite o valor dos produtos:['+ str(lin) + '][' + str(col) + ']: ')))\n",
        "    mat.append(vetor_linha)\n",
        "\n",
        "matriz = []\n",
        "for lin in range(3):\n",
        "    vetor_linha = []\n",
        "    for col in range(2):\n",
        "        vetor_linha.append(mat[lin][col] + mat[lin][col] * 0.07)\n",
        "    matriz.append(vetor_linha)\n",
        "print(matriz)"
      ],
      "metadata": {
        "colab": {
          "base_uri": "https://localhost:8080/"
        },
        "id": "au9G1gxq32u2",
        "outputId": "6b2c55a1-27c3-4f93-cdcc-f0e813042a06"
      },
      "execution_count": null,
      "outputs": [
        {
          "output_type": "stream",
          "name": "stdout",
          "text": [
            "Digite o valor dos produtos:[0][0]: 200\n",
            "Digite o valor dos produtos:[0][1]: 200\n",
            "Digite o valor dos produtos:[1][0]: 200\n",
            "Digite o valor dos produtos:[1][1]: 200\n",
            "Digite o valor dos produtos:[2][0]: 200\n",
            "Digite o valor dos produtos:[2][1]: 200\n",
            "[[214.0, 214.0], [214.0, 214.0], [214.0, 214.0]]\n"
          ]
        }
      ]
    },
    {
      "cell_type": "markdown",
      "metadata": {
        "id": "_aPd4c1b3OjS"
      },
      "source": [
        "### 4. Faça um programa para armazenar em uma matriz 5x2 preços. Encontre e apresente os ÍNDICES dos valores menores que 23 reais."
      ]
    },
    {
      "cell_type": "code",
      "metadata": {
        "id": "Q6LPIy_LCQuO",
        "colab": {
          "base_uri": "https://localhost:8080/"
        },
        "outputId": "5d5d1f2d-1496-4347-ea53-d6ca60442419"
      },
      "source": [
        "matriz = []\n",
        "for lin in range(3):\n",
        "    vetor_linha = []\n",
        "    for col in range(2):\n",
        "        vetor_linha.append(float(input('Digite o valor do produto ['+ str(lin) + '][' + str(col) + ']: R$')))\n",
        "    matriz.append(vetor_linha)\n",
        "for lin in range(3):\n",
        "    for col in range(2):\n",
        "        if matriz[lin][col] < 23:\n",
        "            print(f'OS valores menores que 23 estão nas posicões: linha {lin} e coluna {col}')"
      ],
      "execution_count": null,
      "outputs": [
        {
          "output_type": "stream",
          "name": "stdout",
          "text": [
            "Digite o valor do produto [0][0]: R$25\n",
            "Digite o valor do produto [0][1]: R$20\n",
            "Digite o valor do produto [1][0]: R$20\n",
            "Digite o valor do produto [1][1]: R$20\n",
            "Digite o valor do produto [2][0]: R$25\n",
            "Digite o valor do produto [2][1]: R$20\n",
            "OS valores menores que 23 estão nas posicões: linha 0 e coluna1\n",
            "OS valores menores que 23 estão nas posicões: linha 1 e coluna0\n",
            "OS valores menores que 23 estão nas posicões: linha 1 e coluna1\n",
            "OS valores menores que 23 estão nas posicões: linha 2 e coluna1\n"
          ]
        }
      ]
    },
    {
      "cell_type": "markdown",
      "metadata": {
        "id": "JgYwP3n1CQ_U"
      },
      "source": [
        "### 5. Faça um programa que leia números inteiros m e n e os elementos de uma matriz A de números inteiros de dimensão m x n e conte o número de elementos que são iguais a zero.\n"
      ]
    },
    {
      "cell_type": "code",
      "metadata": {
        "id": "fb6TwQ_yh_To",
        "colab": {
          "base_uri": "https://localhost:8080/"
        },
        "outputId": "eb61d19d-026a-4a34-d8de-1c61b41756a2"
      },
      "source": [
        "m = int(input('Digite a quantidade de linhas: '))\n",
        "n = int(input('Digite a quantidade de colunas: '))\n",
        "matriz = []\n",
        "cont = 0\n",
        "for lin in range(m):\n",
        "    m_linha = []\n",
        "    for col in range(n):\n",
        "        m_linha.append(int(input('Digite o valor inteiro: ' )))\n",
        "        if m_linha[col] == 0:\n",
        "            cont = cont + 1\n",
        "    matriz.append(m_linha)\n",
        "for lin in range(m):\n",
        "    for col in range(n):\n",
        "        print(matriz[lin][col], end='\\t')\n",
        "    print()\n",
        "print('Os valores iguais a zero é de ',cont)"
      ],
      "execution_count": null,
      "outputs": [
        {
          "output_type": "stream",
          "name": "stdout",
          "text": [
            "Digite a quantidade de linhas: 2\n",
            "Digite a quantidade de colunas: 2\n",
            "Digite o valor inteiro: 0\n",
            "Digite o valor inteiro: 54\n",
            "Digite o valor inteiro: 788\n",
            "Digite o valor inteiro: 221\n",
            "0\t54\t\n",
            "788\t221\t\n",
            "Os valores iguais a zero é de  1\n"
          ]
        }
      ]
    },
    {
      "cell_type": "code",
      "source": [
        "m = int(input('Digite a quantidade de linhas: '))\n",
        "n = int(input('Digite a quantidade de colunas: '))\n",
        "matriz = []\n",
        "cont = 0\n",
        "for lin in range(m):\n",
        "    m_linha = []\n",
        "    for col in range(n):\n",
        "        m_linha.append(int(input('Digite o valor inteiro: ' )))\n",
        "    matriz.append(m_linha)\n",
        "for lin in range(m):\n",
        "    for col in range(n):\n",
        "        if matriz[lin][col] == 0:\n",
        "            cont = cont + 1\n",
        "        print(matriz[lin][col], end='\\t')\n",
        "    print()\n",
        "print('Os valores iguais a zero é de ',cont)"
      ],
      "metadata": {
        "colab": {
          "base_uri": "https://localhost:8080/"
        },
        "id": "uCAM5VXanimQ",
        "outputId": "4453c73a-c3fd-4346-d130-d826bfa1dd2b"
      },
      "execution_count": null,
      "outputs": [
        {
          "output_type": "stream",
          "name": "stdout",
          "text": [
            "Digite a quantidade de linhas: 3\n",
            "Digite a quantidade de colunas: 2\n",
            "Digite o valor inteiro: 0\n",
            "Digite o valor inteiro: 95\n",
            "Digite o valor inteiro: 05\n",
            "Digite o valor inteiro: 12\n",
            "Digite o valor inteiro: 22\n",
            "Digite o valor inteiro: 0\n",
            "0\t95\t\n",
            "5\t12\t\n",
            "22\t0\t\n",
            "Os valores iguais a zero é de  2\n"
          ]
        }
      ]
    },
    {
      "cell_type": "markdown",
      "metadata": {
        "id": "fZNXRUrrh_g9"
      },
      "source": [
        "### 6. Faça um programa que carregue: *um vetor com oito posições com os nomes das lojas; * um outro vetor com quatro posições com os nomes dos produtos; * uma matriz (8 x 4) com os preços de todos os produtos em cada loja. O programa deve mostrar todas as relações (nome da loja - nome do produto e preço), nas quais o preço não ultrapasse R$ 120,00.\n"
      ]
    },
    {
      "cell_type": "code",
      "metadata": {
        "id": "A4-CekXy0vrz",
        "colab": {
          "base_uri": "https://localhost:8080/"
        },
        "outputId": "0595dbb8-656f-40b7-ddf1-4d11243699ab"
      },
      "source": [
        "matriz = []\n",
        "nomes_lojas = []\n",
        "nome_produto = []\n",
        "for i in range(2):\n",
        "    nomes_lojas.append(input('Digite o nome da loja: '))\n",
        "for i in range(2):\n",
        "    nome_produto.append(input('Digite o nome do produto: '))\n",
        "for lin in range(2):\n",
        "    preco = []\n",
        "    for col in range(2):\n",
        "        preco.append(float(input('Digite o preço: R$')))\n",
        "    matriz.append(preco)\n",
        "for lin in range(2):\n",
        "    for col in range(2):\n",
        "        if matriz[lin][col] < 120:\n",
        "            print(f'A loja {nomes_lojas[lin]}, com o produto {nome_produto[col]} custa R$ {matriz[lin][col]}')"
      ],
      "execution_count": null,
      "outputs": [
        {
          "output_type": "stream",
          "name": "stdout",
          "text": [
            "Digite o nome da loja: GO\n",
            "Digite o nome da loja: FA\n",
            "Digite o nome do produto: Mouse\n",
            "Digite o nome do produto: Teclado\n",
            "Digite o preço: R$198\n",
            "Digite o preço: R$25\n",
            "Digite o preço: R$55\n",
            "Digite o preço: R$899\n",
            "A loja GO, com o produto Teclado custa R$ 25.0\n",
            "A loja FA, com o produto Mouse custa R$ 55.0\n"
          ]
        }
      ]
    },
    {
      "cell_type": "code",
      "source": [],
      "metadata": {
        "id": "Hm-XJTKE42al"
      },
      "execution_count": null,
      "outputs": []
    }
  ]
}