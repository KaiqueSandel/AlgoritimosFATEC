{
  "nbformat": 4,
  "nbformat_minor": 0,
  "metadata": {
    "colab": {
      "provenance": [],
      "include_colab_link": true
    },
    "kernelspec": {
      "name": "python3",
      "display_name": "Python 3"
    }
  },
  "cells": [
    {
      "cell_type": "markdown",
      "metadata": {
        "id": "view-in-github",
        "colab_type": "text"
      },
      "source": [
        "<a href=\"https://colab.research.google.com/github/KaiqueSandel/AlgoritimosFATEC/blob/main/Andres_Kaique_Santos_de_Melo_221_Est_Rep_SemContador_n.ipynb\" target=\"_parent\"><img src=\"https://colab.research.google.com/assets/colab-badge.svg\" alt=\"Open In Colab\"/></a>"
      ]
    },
    {
      "cell_type": "markdown",
      "metadata": {
        "id": "E64RcqHIMXAS"
      },
      "source": [
        "### **EXERCÍCIOS DE ESTRUTURA DE REPETIÇÃO SEM CONTADOR**\n"
      ]
    },
    {
      "cell_type": "markdown",
      "metadata": {
        "id": "_q0kBpMGMbRF"
      },
      "source": [
        "###1. Construir um algoritmo para calcular e apresentar o total de salários pagos de funcionários, mas não é informado a quantidade de pessoas, então use como critério de parada (condição da estrutura de repetição, digitar zero no salário para sair.\n"
      ]
    },
    {
      "cell_type": "code",
      "metadata": {
        "id": "uLE2w6-aMadI",
        "colab": {
          "base_uri": "https://localhost:8080/"
        },
        "outputId": "24460a4d-fc30-4a6b-e7f7-cba1e5cc2973"
      },
      "source": [
        "salario = float(input('...Informe o salário maior que 0, caso contrário o programa será parado: R$'))\n",
        "somador = 0\n",
        "while salario > 0:\n",
        "    somador = somador + salario\n",
        "    salario = float(input('Informe o salário maior que 0, caso contrário o programa será parado: R$'))\n",
        "print(f'Toral de salários pagos R${somador}')"
      ],
      "execution_count": null,
      "outputs": [
        {
          "output_type": "stream",
          "name": "stdout",
          "text": [
            "...Informe o salário maior que 0, caso contrário o programa será parado: R$5000\n",
            "Informe o salário maior que 0, caso contrário o programa será parado: R$1200\n",
            "Informe o salário maior que 0, caso contrário o programa será parado: R$800\n",
            "Informe o salário maior que 0, caso contrário o programa será parado: R$0\n",
            "Toral de salários pagos R$7000.0\n"
          ]
        }
      ]
    },
    {
      "cell_type": "markdown",
      "metadata": {
        "id": "y7gc7ImtKBee"
      },
      "source": [
        "###2. Faça um programa que receba a altura de 5 pessoas. Encontre e apresente a altura da pessoa mais alta e da mais baixa e seus respectivos nomes."
      ]
    },
    {
      "cell_type": "code",
      "metadata": {
        "id": "r3DxVv2mKIcR",
        "colab": {
          "base_uri": "https://localhost:8080/"
        },
        "outputId": "46bf0f5c-efd4-4d5b-86e9-4fb7273ae21b"
      },
      "source": [
        "for pessoas in range(5):\n",
        "    nome = input('Informe o nome: ')\n",
        "    altura = float(input('Digite a altura: '))\n",
        "    if pessoas == 0:\n",
        "        alto = altura\n",
        "        nomea = nome\n",
        "        baixo = altura\n",
        "        nomeb = nome\n",
        "    if altura >= alto:\n",
        "        alto = altura\n",
        "        nomea = nome\n",
        "    elif altura <= baixo:\n",
        "        baixo = altura\n",
        "        nomeb = nome\n",
        "print(f'{nomea} é mais alto tendo {alto} metros.')\n",
        "print(f'{nomeb} é mais baixo tendo {baixo} metros.')"
      ],
      "execution_count": null,
      "outputs": [
        {
          "output_type": "stream",
          "name": "stdout",
          "text": [
            "Informe o nome: Lucas\n",
            "Digite a altura: 1.78\n",
            "Informe o nome: Andres\n",
            "Digite a altura: 1.8\n",
            "Informe o nome: Felipe\n",
            "Digite a altura: 1.75\n",
            "Informe o nome: Edivaldo\n",
            "Digite a altura: 1.8\n",
            "Informe o nome: Patrícia\n",
            "Digite a altura: 1.65\n",
            "Edivaldo é mais alto tendo 1.8 metros.\n",
            "Patrícia é mais baixo tendo 1.65 metros.\n"
          ]
        }
      ]
    },
    {
      "cell_type": "markdown",
      "metadata": {
        "id": "Dk1zCWGbJezq"
      },
      "source": [
        "###3. Faça um programa que receba a altura de várias pessoas. Encontre e apresente a altura da pessoa mais alta e da mais baixa e seus respectivos nomes. Para encerrar a entrada de dados, zero na altura, mas esta não poderá ser considerada como resposta da altura da pessoa mais baixa.\n"
      ]
    },
    {
      "cell_type": "code",
      "metadata": {
        "id": "C-W0c_6rKKwh",
        "colab": {
          "base_uri": "https://localhost:8080/"
        },
        "outputId": "1f4d9558-a8a8-4712-ea6d-5db9a2581e48"
      },
      "source": [
        "print('Para parar o programa digite 0')\n",
        "altura = float(input('...Digite sua altura: '))\n",
        "nome = input('Informe o nome: ')\n",
        "if altura > 0 :\n",
        "        alto = altura\n",
        "        nomea = nome\n",
        "        baixo = altura\n",
        "        nomeb = nome\n",
        "while altura > 0:\n",
        "    if altura >= alto:\n",
        "        alto = altura\n",
        "        nomea = nome\n",
        "    elif altura <= baixo:\n",
        "        baixo = altura\n",
        "        nomeb = nome\n",
        "    altura = float(input('Digite sua altura: '))\n",
        "    nome = input('Informe o nome: ')\n",
        "print(f'{nomea} é mais alto tendo {alto} metros.')\n",
        "print(f'{nomeb} é mais baixo tendo {baixo} metros.')"
      ],
      "execution_count": null,
      "outputs": [
        {
          "output_type": "stream",
          "name": "stdout",
          "text": [
            "Para parar o programa digite 0\n",
            "...Digite sua altura: 1.78\n",
            "Informe o nome: Lucas\n",
            "Digite sua altura: 1.8\n",
            "Informe o nome: Andres\n",
            "Digite sua altura: 1.75\n",
            "Informe o nome: Felipe\n",
            "Digite sua altura: 0\n",
            "Informe o nome: 0\n",
            "Andres é mais alto tendo 1.8 metros.\n",
            "Felipe é mais baixo tendo 1.75 metros.\n"
          ]
        }
      ]
    },
    {
      "cell_type": "markdown",
      "metadata": {
        "id": "mWl0IWlJNEtA"
      },
      "source": [
        "###4. Faça um programa que receba a idade e a altura de várias pessoas. Calcule e exiba a média das alturas das pessoas com mais de 20 anos. Para encerrar a entrada de dados, digite uma idade negativa ou igual a zero.\n",
        "\n",
        "\n"
      ]
    },
    {
      "cell_type": "code",
      "metadata": {
        "id": "IcSBSaDV8sO_",
        "colab": {
          "base_uri": "https://localhost:8080/"
        },
        "outputId": "8cea1598-78dd-4aec-b15b-e11985e79996"
      },
      "source": [
        "print('Para parar o programa digite 0')\n",
        "idade = int(input('Digite a idade: '))\n",
        "altura = float(input('Digite a altura: '))\n",
        "soma = 0\n",
        "barragem = 0\n",
        "while idade > 0:\n",
        "    if idade > 20:\n",
        "        soma = soma + altura\n",
        "        barragem = barragem + 1\n",
        "    idade = int(input('Digite a idade: '))\n",
        "    altura = float(input('Digite a altura: '))\n",
        "media = soma / barragem\n",
        "print(f'A media de alturas é {media}')"
      ],
      "execution_count": null,
      "outputs": [
        {
          "output_type": "stream",
          "name": "stdout",
          "text": [
            "Para parar o programa digite 0\n",
            "Digite a idade: 25\n",
            "Digite a altura: 1.9\n",
            "Digite a idade: 25\n",
            "Digite a altura: 1.9\n",
            "Digite a idade: 0\n",
            "Digite a altura: 0\n",
            "A media de alturas é 1.9\n"
          ]
        }
      ]
    },
    {
      "cell_type": "markdown",
      "metadata": {
        "id": "14hzaqH38V53"
      },
      "source": [
        "###5. Construir um algoritmo para calcular e apresentar a idade atual de algumas pessoas em relação ao ano atual, mas não é informado a quantidade de pessoas, então use como critério de parada (condição da estrutura de repetição, digitar zero no ano de nascimento para sair."
      ]
    },
    {
      "cell_type": "code",
      "metadata": {
        "id": "XxrUc9yWND8a",
        "colab": {
          "base_uri": "https://localhost:8080/"
        },
        "outputId": "d197bc7f-6120-48f0-d8e9-b4350ccc0c73"
      },
      "source": [
        "ano_nascimento = int(input('Digite o ano do seu nascimento: '))\n",
        "while ano_nascimento > 0:\n",
        "    anos = 2022 - ano_nascimento\n",
        "    print(f'A idade é {anos}')\n",
        "    ano_nascimento = int(input('Digite o ano do seu nascimento: '))"
      ],
      "execution_count": null,
      "outputs": [
        {
          "name": "stdout",
          "output_type": "stream",
          "text": [
            "Digite o ano do seu nascimento: 2004\n",
            "A idade é 18\n",
            "Digite o ano do seu nascimento: 2005\n",
            "A idade é 17\n",
            "Digite o ano do seu nascimento: 0\n"
          ]
        }
      ]
    },
    {
      "cell_type": "markdown",
      "metadata": {
        "id": "inPGbmBaMe3R"
      },
      "source": [
        "###6. Faça um programa que receba um conjunto de valores inteiros, calcule e exiba o maior e o menor valor do conjunto.\n",
        "\n",
        "\n",
        "*   Para encerrar a entrada de dados, deve ser digitado o valor zero;\n",
        "*   Para valores negativos, deve ser enviada uma mensagem;\n",
        "*   Esses valores (zero e negativos) não entrarão na lógica de encontrar o maior e o menor valor.\n",
        "\n"
      ]
    },
    {
      "cell_type": "code",
      "metadata": {
        "id": "Q8ZKZyGLNxFf",
        "colab": {
          "base_uri": "https://localhost:8080/"
        },
        "outputId": "3a22e8e6-40a8-4b95-d658-48a9fdc4ce89"
      },
      "source": [
        "numero = int(input('...Digite o número: '))\n",
        "maior_numero = 0\n",
        "menor_numero = 9999999999999999999999999999999999999999999999999999999999999999999999999999999999999999999999999999999999999999999999999999999999999999999999999999999999999999999999999999999999999999999999999999999999999999999999999\n",
        "while numero != 0:\n",
        "    if numero >= maior_numero and numero > 0:\n",
        "        maior_numero = numero\n",
        "    if numero <= menor_numero and numero > 0:\n",
        "        menor_numero = numero\n",
        "    if numero < 0:\n",
        "        print('Número negativo!')\n",
        "    numero = int(input('Digite o número:  '))\n",
        "print(f'O maior número é {maior_numero}')\n",
        "print(f'O menor número é {menor_numero}')"
      ],
      "execution_count": null,
      "outputs": [
        {
          "output_type": "stream",
          "name": "stdout",
          "text": [
            "...Digite o número: 8\n",
            "Digite o número:  15\n",
            "Digite o número:  22222\n",
            "Digite o número:  29\n",
            "Digite o número:  -6\n",
            "Número negativo!\n",
            "Digite o número:  -15\n",
            "Número negativo!\n",
            "Digite o número:  0\n",
            "O maior número é 22222\n",
            "O menor número é 8\n"
          ]
        }
      ]
    },
    {
      "cell_type": "code",
      "source": [
        "numero = int(input('...Digite o número: '))\n",
        "if numero > 0:\n",
        "    maior_numero = numero\n",
        "    menor_numero = numero\n",
        "while numero != 0:\n",
        "    if numero >= maior_numero and numero > 0:\n",
        "        maior_numero = numero\n",
        "    if numero <= menor_numero and numero > 0:\n",
        "        menor_numero = numero\n",
        "    if numero < 0:\n",
        "        print('Número negativo!')\n",
        "    numero = int(input('Digite o número:  '))\n",
        "print(f'O maior número é {maior_numero}')\n",
        "print(f'O menor número é {menor_numero}')"
      ],
      "metadata": {
        "colab": {
          "base_uri": "https://localhost:8080/"
        },
        "id": "RRDYvlPlahY3",
        "outputId": "a2a43eb0-a1b7-469a-95a1-a20263a3865a"
      },
      "execution_count": null,
      "outputs": [
        {
          "output_type": "stream",
          "name": "stdout",
          "text": [
            "...Digite o número: 8\n",
            "Digite o número:  15\n",
            "Digite o número:  22222\n",
            "Digite o número:  29\n",
            "Digite o número:  -6\n",
            "Número negativo!\n",
            "Digite o número:  -15\n",
            "Número negativo!\n",
            "Digite o número:  0\n",
            "O maior número é 22222\n",
            "O menor número é 8\n"
          ]
        }
      ]
    },
    {
      "cell_type": "markdown",
      "metadata": {
        "id": "ZG-AZwwLN4Vf"
      },
      "source": [
        "###7. No final do ano muitas pessoas compram presentes. Faça um programa que registre alguns dados das pessoas, usando como critério de parada a letra ‘n’, para a pergunta “Deseja cadastrar outro (‘s’/’n’)?”, para identificar o perfil dos compradores numa loja de roupas e apresente como resultado a:\n",
        "a)   Quantidade de mulheres e de homens;\n",
        "\n",
        "b)   Quantidade de mulheres e de homens abaixo e acima de 18 anos."
      ]
    },
    {
      "cell_type": "code",
      "metadata": {
        "id": "t4jNff-_N9xR"
      },
      "source": [
        "# Digite seu código aqui\n",
        "# item a) 2 contadores\n",
        "# item b) 4 contadores"
      ],
      "execution_count": null,
      "outputs": []
    },
    {
      "cell_type": "code",
      "source": [
        "print('ínicio do cadastro!')\n",
        "cont_m = 0\n",
        "cont_f = 0\n",
        "cont_m_maior = 0\n",
        "cont_m_menor = 0\n",
        "cont_f_menor = 0\n",
        "cont_f_maior = 0\n",
        "cont_f_total = 0\n",
        "validacao = input('Deseja cadastrar outro? s ou n: ')\n",
        "while validacao == \"s\":\n",
        "    sexo = input('...digite seu gênero(USE M OU F): ')\n",
        "    idade = int(input('Digite a idade: '))\n",
        "    if  sexo == \"M\":\n",
        "        cont_m = cont_m + 1\n",
        "        if idade > 18:\n",
        "            cont_m_maior = cont_m_maior + 1\n",
        "        if idade < 18:\n",
        "            cont_m_menor = cont_m_menor + 1\n",
        "        validacao = input('Deseja cadastrar outro? s ou n: ')\n",
        "    elif  sexo == \"F\":\n",
        "        cont_f = cont_f + 1\n",
        "        if idade > 18:\n",
        "            cont_f_maior = cont_f_maior + 1\n",
        "        if idade < 18:\n",
        "            cont_f_menor = cont_f_menor + 1\n",
        "        validacao = input('Deseja cadastrar outro? s ou n: ')\n",
        "print(f'Quantidade de homens é {cont_m}, quantidade de mulheres é {cont_f}')\n",
        "print(f'Homens maiores de 18 é {cont_m_maior}, mulheres maiores de 18 é {cont_f_maior}')\n",
        "print(f'Homens menores de 18 é {cont_m_menor}, Mulheres menores de 18 é {cont_f_menor}')"
      ],
      "metadata": {
        "colab": {
          "base_uri": "https://localhost:8080/"
        },
        "id": "_oTtSWA6ba3Y",
        "outputId": "0c3513e6-0619-4aae-8dc6-a39e8434490b"
      },
      "execution_count": null,
      "outputs": [
        {
          "output_type": "stream",
          "name": "stdout",
          "text": [
            "ínicio do cadastro!\n",
            "Deseja cadastrar outro? s ou n: s\n",
            "...digite seu gênero(USE M OU F): M\n",
            "Digite a idade: 19\n",
            "Deseja cadastrar outro? s ou n: s\n",
            "...digite seu gênero(USE M OU F): M\n",
            "Digite a idade: 12\n",
            "Deseja cadastrar outro? s ou n: s\n",
            "...digite seu gênero(USE M OU F): F\n",
            "Digite a idade: 19\n",
            "Deseja cadastrar outro? s ou n: s\n",
            "...digite seu gênero(USE M OU F): F\n",
            "Digite a idade: 12\n",
            "Deseja cadastrar outro? s ou n: n\n",
            "Quantidade de homens é 2, quantidade de mulheres é 2\n",
            "Homens maiores de 18 é 1, mulheres maiores de 18 é 1\n",
            "Homens menores de 18 é 1, Mulheres menores de 18 é 1\n"
          ]
        }
      ]
    }
  ]
}