{
  "nbformat": 4,
  "nbformat_minor": 0,
  "metadata": {
    "colab": {
      "provenance": [],
      "include_colab_link": true
    },
    "kernelspec": {
      "name": "python3",
      "display_name": "Python 3"
    }
  },
  "cells": [
    {
      "cell_type": "markdown",
      "metadata": {
        "id": "view-in-github",
        "colab_type": "text"
      },
      "source": [
        "<a href=\"https://colab.research.google.com/github/KaiqueSandel/AlgoritimosFATEC/blob/main/AndresKaique_221_EntradaSaida_n.ipynb\" target=\"_parent\"><img src=\"https://colab.research.google.com/assets/colab-badge.svg\" alt=\"Open In Colab\"/></a>"
      ]
    },
    {
      "cell_type": "markdown",
      "metadata": {
        "id": "5gti273fgVUm"
      },
      "source": [
        "\n",
        "\n",
        "\n",
        "\n",
        "\n",
        "\n",
        "\n",
        "\n",
        "\n",
        "\n",
        "\n",
        "\n",
        "\n",
        "\n",
        "\n",
        "\n",
        "\n",
        "\n",
        "\n",
        "\n",
        "\n",
        "\n",
        "\n",
        "\n",
        "# Exercícios para construir programas com ENTRADA, PROCESSAMENTO e SAÍDA"
      ]
    },
    {
      "cell_type": "markdown",
      "metadata": {
        "id": "OhRjsGO5gXft"
      },
      "source": [
        "### 1. Faça um programa que leia um número, multiplique ele por 2 e apresente o resultado.\n",
        "      LEIA numero\n",
        "      resultado = numero * 2\n",
        "      ESCREVA resultado"
      ]
    },
    {
      "cell_type": "code",
      "metadata": {
        "id": "gl_HmcKjgIgH",
        "colab": {
          "base_uri": "https://localhost:8080/"
        },
        "outputId": "83d930c9-087f-4125-fc10-ffd62ad3fae0"
      },
      "source": [
        "# 1º passo - identificar a(s) entrada(s) - variável número\n",
        "numero = int(input('Informe um valor: '))\n",
        "# 2º passo - identificar o cálculo/processamento\n",
        "resultado = numero * 2\n",
        "# 3º passo - apresentar a(s) variáveis que foram calculadas\n",
        "print('O resultado é',resultado)"
      ],
      "execution_count": null,
      "outputs": [
        {
          "output_type": "stream",
          "name": "stdout",
          "text": [
            "Informe um valor: 25\n",
            "O resultado é 50\n"
          ]
        }
      ]
    },
    {
      "cell_type": "markdown",
      "metadata": {
        "id": "tYDfNkC3geee"
      },
      "source": [
        "### 2. Faça um programa que:\n",
        "* receba três números inteiros\n",
        "* calcule e mostre a soma desses números.\n"
      ]
    },
    {
      "cell_type": "code",
      "metadata": {
        "id": "KVDopJZngcRf",
        "colab": {
          "base_uri": "https://localhost:8080/"
        },
        "outputId": "fe9a132c-8e60-4979-a73e-2781a579c243"
      },
      "source": [
        "valorone = int(input('Digite um valor inteiro: '))\n",
        "valortwo = int(input('Digite outro valor inteiro: '))\n",
        "valorthree = int(input('Digite mais um valor inteiro: '))\n",
        "somatotal = valorone + valortwo + valorthree\n",
        "print('A soma desses números inteiros é de: ',somatotal)\n",
        "\n",
        "\n"
      ],
      "execution_count": null,
      "outputs": [
        {
          "output_type": "stream",
          "name": "stdout",
          "text": [
            "Digite um valor inteiro: 85 \n",
            "Digite outro valor inteiro: 12\n",
            "Digite mais um valor inteiro: 171\n",
            "A soma desses números inteiros é de:  268\n"
          ]
        }
      ]
    },
    {
      "cell_type": "markdown",
      "metadata": {
        "id": "lMGZBLxfghBl"
      },
      "source": [
        "### 3. Faça um programa que receba três notas, calcule e mostre a média aritmética.\n",
        "      LEIA nota1, nota2, nota3\n",
        "      media = (nota1 + nota2 + nota3) / 3\n",
        "      ESCREVA media\n",
        "      "
      ]
    },
    {
      "cell_type": "code",
      "metadata": {
        "id": "awkP7ZbHgxRO",
        "colab": {
          "base_uri": "https://localhost:8080/"
        },
        "outputId": "41694678-201c-44de-8fee-79461f8fdf9c"
      },
      "source": [
        "notaone = float(input('Nota aluno 1: '))\n",
        "notatwo = float(input('Nota Aluno 2: '))\n",
        "notathree = float(input('Nota Aluno 3: '))\n",
        "media = (notaone + notatwo + notathree) / 3\n",
        "print('A média aritmética dos alunos é:' ,media)"
      ],
      "execution_count": null,
      "outputs": [
        {
          "output_type": "stream",
          "name": "stdout",
          "text": [
            "Nota aluno 1: 8.5\n",
            "Nota Aluno 2: 2\n",
            "Nota Aluno 3: 10\n",
            "A média aritmética dos alunos é: 6.833333333333333\n"
          ]
        }
      ]
    },
    {
      "cell_type": "markdown",
      "metadata": {
        "id": "wh1Bjz9agxme"
      },
      "source": [
        "### 4. Faça um programa que:\n",
        "* receba o salário de um funcionário\n",
        "* calcule e mostre o novo salário, sabendo-se que este sofreu um aumento de 25%.\n",
        "\n",
        "      LEIA salario\n",
        "      novoSalario = salario + (salario * 25 / 100)\n",
        "      ESCREVA novoSalario"
      ]
    },
    {
      "cell_type": "code",
      "metadata": {
        "id": "FxXwABFVgygE",
        "colab": {
          "base_uri": "https://localhost:8080/"
        },
        "outputId": "c3daaa9f-6576-4f2b-96bd-3bafc1a5beaf"
      },
      "source": [
        "salario = float(input('Digite o valor do seu salário em R$: '))\n",
        "newsalario = salario + (salario * 25 / 100)\n",
        "print('Caro funcionário, seu novo salário é:' ,newsalario)\n"
      ],
      "execution_count": null,
      "outputs": [
        {
          "output_type": "stream",
          "name": "stdout",
          "text": [
            "Digite o valor do seu salário em R$: 8750\n",
            "Caro funcionário, seu novo salário é: 10937.5\n"
          ]
        }
      ]
    },
    {
      "cell_type": "markdown",
      "metadata": {
        "id": "YQP_f4hzgyrh"
      },
      "source": [
        "### 5. Faça um programa que receba o salário de um funcionário e o percentual de aumento, calcule e mostre o valor do aumento e o novo salário.\n"
      ]
    },
    {
      "cell_type": "code",
      "metadata": {
        "id": "9T2dzNEug1PR",
        "colab": {
          "base_uri": "https://localhost:8080/"
        },
        "outputId": "e588d2ef-a17f-4c76-843b-3d5d76fb645f"
      },
      "source": [
        "salario = float(input('Digite o salário atual em R$: '))\n",
        "percentual = float(input('digite o percentual: '))\n",
        "aumento = salario * percentual / 100\n",
        "novovalor = salario + aumento\n",
        "print('O aumento de seu salário será: ' ,aumento)\n",
        "print('Seu novo salário é:' ,novovalor)\n",
        "\n"
      ],
      "execution_count": null,
      "outputs": [
        {
          "output_type": "stream",
          "name": "stdout",
          "text": [
            "Digite o salário atual em R$: 1450\n",
            "digite o percentual: 22\n",
            "O aumento de seu salário será:  319.0\n",
            "Seu novo salário é: 1769.0\n"
          ]
        }
      ]
    },
    {
      "cell_type": "markdown",
      "metadata": {
        "id": "PXXsNWWEg1bu"
      },
      "source": [
        "### 6. Faça um programa que receba o salário base de um funcionário, calcule e mostre o salário a receber, sabendo-se que o funcionário tem gratificação de 5% sobre o salário base e **paga imposto** de 7% também sobre o salário base."
      ]
    },
    {
      "cell_type": "code",
      "metadata": {
        "id": "x7xfAIUgg5qV",
        "colab": {
          "base_uri": "https://localhost:8080/"
        },
        "outputId": "b473ebd4-1ad9-46d7-d85a-c2199eff3d33"
      },
      "source": [
        "salario_base = float(input('Digite o valor do salário em R$: '))\n",
        "gratificacao = salario_base * 5 / 100\n",
        "imposto = salario_base * 7 / 100\n",
        "desconto = salario_base + gratificacao - imposto\n",
        "print('Total com descontos de tributos federais:', desconto)"
      ],
      "execution_count": null,
      "outputs": [
        {
          "output_type": "stream",
          "name": "stdout",
          "text": [
            "Digite o valor do salário em R$: 7855\n",
            "Total com descontos de tributos federais: 7697.9\n"
          ]
        }
      ]
    },
    {
      "cell_type": "markdown",
      "metadata": {
        "id": "wSkc33VHg50d"
      },
      "source": [
        "### 7. Faça um programa que receba o salário base de um funcionário, calcule e mostre seu salário a receber, sabendo-se que o funcionário tem gratificação de 50,00 sobre o salário base e paga imposto que deve ser lido e é aplicado sobre o salário base.\n",
        "\n",
        "    LEIA salario, perImposto\n",
        "    imposto = salario * perImposto / 100\n",
        "    salario_a_receber = salario + 50 - imposto\n",
        "    ESCREVA salario_a_receber"
      ]
    },
    {
      "cell_type": "code",
      "source": [
        "salario_base = float(input('Digite a frente seu salário em R$: '))\n",
        "perimposto = float(input('Digite o valor de imposto '))\n",
        "imposto = salario_base * perimposto / 100\n",
        "salario_recebido = salario_base + 50 - imposto\n",
        "print('Você irá reaceber:' ,salario_recebido)"
      ],
      "metadata": {
        "id": "Gm_JtNCQWBJb",
        "colab": {
          "base_uri": "https://localhost:8080/"
        },
        "outputId": "72c7a133-fadd-4236-c155-1d4ab3ebc5a2"
      },
      "execution_count": null,
      "outputs": [
        {
          "output_type": "stream",
          "name": "stdout",
          "text": [
            "Digite a frente seu salário em R$: 8750\n",
            "Digite o valor de imposto 15\n",
            "Você irá reaceber: 7487.5\n"
          ]
        }
      ]
    },
    {
      "cell_type": "markdown",
      "metadata": {
        "id": "pvZSNjjzg8oq"
      },
      "source": [
        "### 8. Faça um programa que receba o valor de um depósito e o valor da taxa de juros, calcule e mostre o valor do rendimento e o valor total depois do rendimento de um mês."
      ]
    },
    {
      "cell_type": "code",
      "metadata": {
        "id": "k0zejQegg9ma",
        "colab": {
          "base_uri": "https://localhost:8080/"
        },
        "outputId": "22a48aef-f868-40db-e6b1-0648e2f75654"
      },
      "source": [
        "deposito = float(input('Qual valor do seu depósito? '))\n",
        "taxadejuros = float(input('Digite o valor da taxa de juros: '))\n",
        "rendimentodia = deposito - taxadejuros / 100\n",
        "rendimentomes = rendimentodia * 30\n",
        "rendimentomensal = rendimentomes - deposito\n",
        "rendimentototal = rendimentomensal + deposito\n",
        "print('O valor do seu rendimento mensal é de: ',rendimentomensal)\n",
        "print('Seu total do seu rendimento mensal é de:',rendimentototal)\n"
      ],
      "execution_count": null,
      "outputs": [
        {
          "output_type": "stream",
          "name": "stdout",
          "text": [
            "Qual valor do seu depósito? 870\n",
            "Digite o valor da taxa de juros: 87\n",
            "O valor do seu rendimento mensal é de:  25203.9\n",
            "Seu total do seu rendimento mensal é de: 26073.9\n"
          ]
        }
      ]
    },
    {
      "cell_type": "markdown",
      "metadata": {
        "id": "z42ADdywg9xS"
      },
      "source": [
        "### 9. Faça um programa que calcule e mostre a área de um triângulo. Sabe-se que: Área = (base * altura) / 2."
      ]
    },
    {
      "cell_type": "code",
      "metadata": {
        "id": "F-yamLhahCTK",
        "colab": {
          "base_uri": "https://localhost:8080/"
        },
        "outputId": "3bce47d6-da0c-497b-a0b6-45f55e3feea9"
      },
      "source": [
        "base = float(input('Digite o valor da base do triângulo: '))\n",
        "altura = float(input('Digite o valor da altura: '))\n",
        "area = (base * altura) / 2\n",
        "print('A área do triângulo é: ' ,area)\n"
      ],
      "execution_count": null,
      "outputs": [
        {
          "output_type": "stream",
          "name": "stdout",
          "text": [
            "Digite o valor da base do triângulo: 12\n",
            "Digite o valor da altura: 6\n",
            "A área do triângulo é:  36.0\n"
          ]
        }
      ]
    },
    {
      "cell_type": "markdown",
      "metadata": {
        "id": "s4oSY4EghCfn"
      },
      "source": [
        "### 10. Faça um programa que calcule e mostre a área de um círculo. Sabe-se que: area = pi * raio² ou area = 3.1415 * raio²"
      ]
    },
    {
      "cell_type": "code",
      "metadata": {
        "id": "tvPiHGB0hE5N",
        "colab": {
          "base_uri": "https://localhost:8080/"
        },
        "outputId": "ed707b8a-30cf-48ee-9d50-3c718b54dcf6"
      },
      "source": [
        "pi = float(input('Digite o valor do perimetro: '))\n",
        "raio = float(input('Digite o valor do raio: '))\n",
        "area = pi * 3.1415 * raio\n",
        "print('A área do círculo é de: ' ,area)"
      ],
      "execution_count": null,
      "outputs": [
        {
          "output_type": "stream",
          "name": "stdout",
          "text": [
            "Digite o valor do perimetro: 40\n",
            "Digite o valor do raio: 20\n",
            "A área do círculo é de:  2513.2000000000003\n"
          ]
        }
      ]
    },
    {
      "cell_type": "markdown",
      "metadata": {
        "id": "vTot3sXrhFAT"
      },
      "source": [
        "### 11. Faça um programa que receba um número, calcule e mostre:\n",
        "* O número digitado ao quadrado\n",
        "* O número digitado ao cubo\n",
        "* A raiz do número digitado\n",
        "* A raiz cúbica do número digitado\n",
        "\n",
        "      LEIA numero\n",
        "      quadrado = numero ** 2\n",
        "      cubo = numero ** 3\n",
        "      raiz_quadrada = numero ** (½) (meio, ou 0.5)\n",
        "      raiz_cubica = numero ** (⅓) (um terço, ou 0.33)\n",
        "      ESCREVA quadrado, cubo, raiz_quadrada, raiz_cubica"
      ]
    },
    {
      "cell_type": "code",
      "metadata": {
        "id": "TT0-h8nChILi",
        "colab": {
          "base_uri": "https://localhost:8080/"
        },
        "outputId": "d914680e-b758-462c-f30d-206ccd99f105"
      },
      "source": [
        "numero  = float(input('Digite o número desejado: '))\n",
        "quadrado = numero ** 2\n",
        "cubo = numero ** 3\n",
        "raizquadrado = numero ** 0.5\n",
        "raizcubica = numero ** 0.33\n",
        "print('O seu número ao quadrado é: ' ,quadrado)\n",
        "print('O seu número ao cubo é: ' ,cubo)\n",
        "print('A raiz quadrada do seu número é: ',raizquadrado)\n",
        "print('A raiz cúbica do seu numero é: ' ,raizcubica)"
      ],
      "execution_count": null,
      "outputs": [
        {
          "output_type": "stream",
          "name": "stdout",
          "text": [
            "Digite o número desejado: 780\n",
            "O seu número ao quadrado é:  608400.0\n",
            "O seu número ao cubo é:  474552000.0\n",
            "A raiz quadrada do seu número é:  27.92848008753788\n",
            "A raiz cúbica do seu numero é:  9.003082273114375\n"
          ]
        }
      ]
    },
    {
      "cell_type": "markdown",
      "metadata": {
        "id": "6w8k1c0ShIWK"
      },
      "source": [
        "### 12. Faça um programa que receba dois números, calcule e mostre um elevado ao outro. Use os caracteres **\n"
      ]
    },
    {
      "cell_type": "code",
      "metadata": {
        "id": "2KMY_7MQhKuf",
        "colab": {
          "base_uri": "https://localhost:8080/"
        },
        "outputId": "4ce47197-441d-41cf-b66b-7eb56fde0253"
      },
      "source": [
        "numero1 = float(input('Digite o valor de um número: '))\n",
        "numero2 = float(input('Digite o valor de outro numero: '))\n",
        "elevado1 = numero1 ** numero2\n",
        "elevado2 = numero2 ** numero1\n",
        "print('Valor do primeiro número elevado ao segundo: ' ,elevado1)\n",
        "print('Valor do segundo número elevado ao primeiro: ' ,elevado2)"
      ],
      "execution_count": null,
      "outputs": [
        {
          "output_type": "stream",
          "name": "stdout",
          "text": [
            "Digite o valor de um número: 85\n",
            "Digite o valor de outro numero: 14\n",
            "Valor do primeiro número elevado ao segundo:  1.0276966953088436e+27\n",
            "Valor do segundo número elevado ao primeiro:  2.635621445482195e+97\n"
          ]
        }
      ]
    },
    {
      "cell_type": "markdown",
      "metadata": {
        "id": "IKp4FbUQhK3f"
      },
      "source": [
        "### 13. Sabe-se que:\n",
        "\n",
        "* pé = 12 polegadas\n",
        "* 1 jarda = 3 pés\n",
        "* 1 milha = 1760 jarda\n",
        "\n",
        "Faça um programa que receba uma medida em pés, faça as conversões a seguir e mostre os resultados.\n",
        "\n",
        "* Polegadas;\n",
        "* Jardas;\n",
        "* Milhas.\n",
        "\n",
        "      LEIA pes\n",
        "      polegadas = pes * 12\n",
        "      jardas = pes / 3\n",
        "      milhas = jardas / 1760\n",
        "      ESCREVA polegadas, jardas, milhas"
      ]
    },
    {
      "cell_type": "code",
      "metadata": {
        "id": "RIaq7VtchNNp",
        "colab": {
          "base_uri": "https://localhost:8080/"
        },
        "outputId": "a1a53ca0-22bd-4a95-cee1-58756b2f50a8"
      },
      "source": [
        "pes = int(input('Digite o valor dos pés: '))\n",
        "polegadas = pes * 12\n",
        "jardas = pes / 3\n",
        "milhas = jardas / 1760\n",
        "print('O valor em polegadas é: ' ,polegadas)\n",
        "print('O valor em jardas é: ' ,jardas)\n",
        "print('O valor em milhas é: ' ,milhas)"
      ],
      "execution_count": null,
      "outputs": [
        {
          "output_type": "stream",
          "name": "stdout",
          "text": [
            "Digite o valor dos pés: 870\n",
            "O valor em polegadas é:  10440\n",
            "O valor em jardas é:  290.0\n",
            "O valor em milhas é:  0.16477272727272727\n"
          ]
        }
      ]
    },
    {
      "cell_type": "markdown",
      "metadata": {
        "id": "AuDRKznFhNXx"
      },
      "source": [
        "### 14. Faça um programa que receba o ano de nascimento de uma pessoa e o ano atual, calcule e mostre:\n",
        "* a idade atual da pessoa;\n",
        "* quantos anos ela terá em 2050."
      ]
    },
    {
      "cell_type": "code",
      "metadata": {
        "id": "OMzeO-7bhOGb",
        "colab": {
          "base_uri": "https://localhost:8080/"
        },
        "outputId": "dc903621-2e8d-4e35-da03-cbdb9b1f0c15"
      },
      "source": [
        "anonascimento = int(input('Digite seu ano de nascimento: '))\n",
        "anoatual = int(input('Digite o ano em que está: '))\n",
        "idadeatual = anoatual - anonascimento\n",
        "idadefutura = 2050 - anonascimento\n",
        "print('Sua idade atual é de: ' ,idadeatual)\n",
        "print('Em 2050 você terá: ' ,idadefutura)"
      ],
      "execution_count": null,
      "outputs": [
        {
          "output_type": "stream",
          "name": "stdout",
          "text": [
            "Digite seu ano de nascimento: 2004\n",
            "Digite o ano em que está: 2022\n",
            "Sua idade atual é de:  18\n",
            "Em 2050 você terá:  46\n"
          ]
        }
      ]
    },
    {
      "cell_type": "markdown",
      "metadata": {
        "id": "C23LWTfwhOPH"
      },
      "source": [
        "#### 15. O custo ao consumidor de um carro novo é a soma do preço de fábrica com o percentual de lucro do distribuidor e dos impostos aplicados ao preço de fábrica. Faça um programa que receba o preço de fábrica de um veículo, o percentual de lucro do distribuidor e o percentual de impostos, calcule e mostre:\n",
        "* o valor correspondente ao lucro do distribuidor;\n",
        "* o valor correspondente aos impostos;\n",
        "* o preço final do veículo.\n",
        "        LEIA preco_fabrica\n",
        "        LEIA percentual_lucro_distribuidor\n",
        "        LEIA percentual_imposto\n",
        "        lucro_distribuidor = preco_fabrica * percentual_lucro_distribuidor / 100\n",
        "        valor_imposto = preco_fabrica * percentual_imposto / 100\n",
        "        preco_final = preco_fabrica + lucro_distribuidor + valor_imposto\n",
        "        ESCREVA lucro_distribuidor\n",
        "        ESCREVA valor_imposto\n",
        "        ESCREVA preco_final\n"
      ]
    },
    {
      "cell_type": "code",
      "metadata": {
        "id": "WCpDCuR6hRlb",
        "colab": {
          "base_uri": "https://localhost:8080/"
        },
        "outputId": "1eec5774-32d7-4b3b-9f44-3484fbaec669"
      },
      "source": [
        "precofabrica = float(input('Digite o preço de fabrica veículo: '))\n",
        "percentual_lucro = float(input('Digite o percentual de lucro do distribuidor: '))\n",
        "percentualimpostos = float(input('Digite o percentual dos impostos: '))\n",
        "lucro_distribuidor = precofabrica * percentual_lucro / 100\n",
        "valor_imposto = precofabrica * percentualimpostos / 100\n",
        "precofinal = precofabrica + lucro_distribuidor + valor_imposto\n",
        "print('O total de lucro do distibuidor é de: ' ,lucro_distribuidor)\n",
        "print('O valor em impostos é: ' ,valor_imposto)\n",
        "print('Então o valor final do produto será de: ' ,precofinal)"
      ],
      "execution_count": null,
      "outputs": [
        {
          "output_type": "stream",
          "name": "stdout",
          "text": [
            "Digite o preço de fabrica veículo: 54000\n",
            "Digite o percentual de lucro do distribuidor: 12000\n",
            "Digite o percentual dos impostos: 5400\n",
            "O total de lucro do distibuidor é de:  6480000.0\n",
            "O valor em impostos é:  2916000.0\n",
            "Então o valor final do produto será de:  9450000.0\n"
          ]
        }
      ]
    },
    {
      "cell_type": "markdown",
      "metadata": {
        "id": "eHRob5vghRuI"
      },
      "source": [
        "\n",
        "### 16. Faça um programa que receba o número de horas trabalhadas e o valor do salário mínimo, calcule e mostre o salário a receber, seguindo estas regras:\n",
        "* a hora trabalhada vale a metade do salário mínimo.\n",
        "* o salário bruto equivale ao número de horas trabalhadas multiplicado pelo valor da hora trabalhada.\n",
        "* o imposto equivale a 3% do salário bruto.\n",
        "* o salário a receber equivale ao salário bruto menos o imposto.\n",
        "      LEIA qtde_horas_trabalhadas\n",
        "      LEIA valor_salario_minimo\n",
        "      valor_hora_trabalhada = valor_salario_minimo / 2\n",
        "      valor_salario_bruto = valor_hora_trabalhada * qtde_horas_trabalhadas\n",
        "      imposto = valor_salario_bruto * 3 / 100\n",
        "      valor_salario_liquido =  valor_salario_bruto - imposto\n",
        "      ESCREVA valor_salario_liquido"
      ]
    },
    {
      "cell_type": "code",
      "metadata": {
        "id": "w_Kil4knhVrJ",
        "colab": {
          "base_uri": "https://localhost:8080/"
        },
        "outputId": "265f32bf-d0f6-4483-cb05-76e6b7e58550"
      },
      "source": [
        "qtde_horas_trabalhadas = float(input('Digite a quantidade de horas trabalhadas: '))\n",
        "valor_salario_minimo = float(input('Digite o valor do salário mínimo: '))\n",
        "valor_hora_trabalhada = valor_salario_minimo / 2\n",
        "valor_salario_bruto = valor_hora_trabalhada * qtde_horas_trabalhadas\n",
        "imposto = valor_salario_bruto * 3 / 100\n",
        "valor_salario_liquido = valor_salario_bruto - imposto\n",
        "print('O valor líquido do salário será de: ' ,valor_salario_liquido)"
      ],
      "execution_count": null,
      "outputs": [
        {
          "output_type": "stream",
          "name": "stdout",
          "text": [
            "Digite a quantidade de horas trabalhadas: 59\n",
            "Digite o valor do salário mínimo: 1212\n",
            "O valor líquido do salário será de:  34681.38\n"
          ]
        }
      ]
    },
    {
      "cell_type": "markdown",
      "metadata": {
        "id": "0OW87yEnhV-V"
      },
      "source": [
        "### 17. Um trabalhador recebeu seu salário e o depositou em sua conta bancária. Esse trabalhador emitiu dois cheques e agora deseja saber seu saldo atual. O banco criou uma taxa para a operação bancária de retirada que tem que pagar um imposto de 0.38% e o saldo inicial da conta está zerado.\n",
        "\n",
        "      LEIA salario\n",
        "      LEIA valor_cheque1\n",
        "      LEIA valor_cheque2\n",
        "      imposto_cheque1 = valor_cheque1 * 0.38 / 100\n",
        "      saque1 = valor_cheque1 + imposto_cheque1\n",
        "      imposto_cheque2 = cheque2 * 0.38 / 100\n",
        "      saque2 = valor_cheque2 + imposto_cheque2\n",
        "      saldo = salario - saque1 - saque2\n",
        "      ESCREVA saldo\n"
      ]
    },
    {
      "cell_type": "code",
      "metadata": {
        "id": "MUEC63qMhYu1",
        "colab": {
          "base_uri": "https://localhost:8080/"
        },
        "outputId": "0e91d9c4-e94b-4509-d204-e97b0e1ac730"
      },
      "source": [
        "salario = float(input('Digite o valor do seu salário: '))\n",
        "valor_cheque1 = float(input('Digite o valor do primeiro cheque depositado: '))\n",
        "valor_cheque2 = float(input('Digite o valor do segundo cheque depositado: '))\n",
        "imposto_cheque1 = valor_cheque1 * 0.38 / 100\n",
        "saque1 = valor_cheque1 + imposto_cheque1\n",
        "imposto_cheque2 = valor_cheque2 * 0.38 / 100\n",
        "saque2 = valor_cheque2 + imposto_cheque2\n",
        "saldo = salario - saque1 - saque2\n",
        "print('O saldo disponivel pós saques é: ' ,saldo)\n"
      ],
      "execution_count": null,
      "outputs": [
        {
          "output_type": "stream",
          "name": "stdout",
          "text": [
            "Digite o valor do seu salário: 2400.2\n",
            "Digite o valor do primeiro cheque depositado: 2100\n",
            "Digite o valor do segundo cheque depositado: 220.9\n",
            "O saldo disponivel pós saques é:  70.4805799999998\n"
          ]
        }
      ]
    },
    {
      "cell_type": "markdown",
      "metadata": {
        "id": "tbHb8qiYheU3"
      },
      "source": [
        "### 18. Faça um programa que receba a medida do ângulo (em graus) formado por uma escada apoiada no chão e encostada na parede e a altura da parede onde está a ponta da escada. Calcule e mostre a medida dessa escada. Observação: as funções trigonométricas implementadas nas linguagens de programação trabalham com medidas de ângulos em radianos.\n",
        "      LEIA angulo\n",
        "      LEIA altura\n",
        "      import math # carrega a biblioteca matemática\n",
        "      radiano = angulo * math.pi / 180\n",
        "      escada = altura / math.sin(radiano)\n",
        "      ESCREVA escada\n",
        "**Observação**: Para usar seno em Python, deve-se usar esta linha de código **import math** e esta, no cálculo, **math.sin(numero)**\n",
        "\n",
        "**import math**\n",
        "\n",
        "escada = altura / **math.sin**(numero)"
      ]
    },
    {
      "cell_type": "code",
      "metadata": {
        "id": "Ijh7i02rhg0D",
        "colab": {
          "base_uri": "https://localhost:8080/"
        },
        "outputId": "56fb1587-3bc3-41de-a6ce-57dc544ea95f"
      },
      "source": [
        "\n",
        "angulo = float(input('Digite o valor do ângulo em graus: '))\n",
        "altura = float(input('Digite o valor da altura: '))\n",
        "import math\n",
        "radiano = angulo * math.pi / 180\n",
        "escada = altura / math.sin(radiano)\n",
        "print('A medida dessa escada é de: ' ,escada)"
      ],
      "execution_count": null,
      "outputs": [
        {
          "output_type": "stream",
          "name": "stdout",
          "text": [
            "Digite o valor do ângulo em graus: 45\n",
            "Digite o valor da altura: 6\n",
            "A medida dessa escada é de:  8.485281374238571\n"
          ]
        }
      ]
    },
    {
      "cell_type": "markdown",
      "metadata": {
        "id": "P2CNkCZ5hiJH"
      },
      "source": [
        "###19. Sabe-se que o quilowatt de energia custa um quinto do salário mínimo. Faça um programa que receba o valor do salário mínimo e a quantidade de quilowatts consumida por uma residência. Calcule e mostre:\n",
        "\n",
        "\n",
        "* o valor de cada quilowatt;\n",
        "* o valor a ser pago por essa residência;\n",
        "* o valor a ser pago com desconto de 15%.\n",
        "      LEIA valor_salario\n",
        "      LEIA qtde_quilowatt\n",
        "      valor_quilowatt = valor_salario / 5\n",
        "      valor_em_reais = valor_quilowatt * qtde_quilowatt\n",
        "      valor_descontado = valor_em_reais * 15 / 100\n",
        "      valor_com_desconto =  valor_em_reais − valor_descontado\n",
        "      ESCREVA valor_quilowatt\n",
        "      ESCREVA valor_em_reais\n",
        "      ESCREVA valor_com_desconto\n"
      ]
    },
    {
      "cell_type": "code",
      "metadata": {
        "id": "RJpeKC7NhmIf",
        "colab": {
          "base_uri": "https://localhost:8080/"
        },
        "outputId": "6d1d257e-1871-4d7a-ae52-8c04dfa4ddfe"
      },
      "source": [
        "valor_salaraio = float(input('Digite o valor do sálario em: '))\n",
        "qtde_quilowatt = float(input('Digite o valor em quilowatt de energia consumida: '))\n",
        "valor_quilowatt = valor_salaraio / 5\n",
        "valor_em_reais = valor_quilowatt * qtde_quilowatt\n",
        "valor_descontado = valor_em_reais * 15 / 100\n",
        "valor_com_desconto = valor_em_reais - valor_descontado\n",
        "print('O valor de quiloawatts consumido é de: ' ,valor_quilowatt)\n",
        "print('O valor em reais dos quilowatts consumidos é de: ' ,valor_em_reais)\n",
        "print('O valor com descontos ao todo é: ' ,valor_com_desconto)"
      ],
      "execution_count": null,
      "outputs": [
        {
          "output_type": "stream",
          "name": "stdout",
          "text": [
            "Digite o valor do sálario: 7540.5\n",
            "Digite o valor em quilowatt de energia consumida: 28\n",
            "O valor de quiloawatts consumido é de:  1508.1\n",
            "O valor em reais dos quilowatts consumidos é de:  42226.799999999996\n",
            "O valor com descontos ao todo é:  35892.78\n"
          ]
        }
      ]
    },
    {
      "cell_type": "markdown",
      "metadata": {
        "id": "hDmdn0BWhmTx"
      },
      "source": [
        "### 20. Faça um programa que receba um número real, encontre e mostre:\n",
        "\n",
        "* a parte inteira desse número;\n",
        "* a parte fracionária desse número;\n",
        "* o arredondamento desse número.\n",
        "\n",
        "      LEIA numero\n",
        "      parte_inteira = numero // 1\n",
        "      parte_fracionaria = numero - parte_inteira\n",
        "      numero_arredondado = arredonda (numero)\n",
        "      ESCREVA parte_inteira\n",
        "      ESCREVA parte_fracionaria\n",
        "      ESCREVA numero_arredondado\n",
        "      \n",
        "**Observação**: Para arredondar um número em Python, usa-se a função **round(numero)**, onde se o número real/float estiver em igual distância entre o inteiro de cima e o inteiro de baixo, esta função arredonda para o número par mais próximo.\n",
        "\n"
      ]
    },
    {
      "cell_type": "code",
      "source": [
        "numero = float(input('Digite o valor do número: '))\n",
        "parte_inteira = numero // 1\n",
        "parte_fracionaria = numero - parte_inteira\n",
        "numero_arredonadado = round(numero)\n",
        "print('O valor inteiro é: ' ,parte_inteira)\n",
        "print('O valor frácionado é: ' ,parte_fracionaria)\n",
        "print('Valor arredondado é: ' ,numero_arredonadado)"
      ],
      "metadata": {
        "id": "W5AO6ooD3rv4",
        "colab": {
          "base_uri": "https://localhost:8080/"
        },
        "outputId": "bc8bd6a5-390e-4c66-bd0f-77a1a6d9d107"
      },
      "execution_count": null,
      "outputs": [
        {
          "output_type": "stream",
          "name": "stdout",
          "text": [
            "Digite o valor do número: 1758.25\n",
            "O valor inteiro é:  1758.0\n",
            "O valor frácionado é:  0.25\n",
            "Valor arredondado é:  1758\n"
          ]
        }
      ]
    },
    {
      "cell_type": "markdown",
      "metadata": {
        "id": "0Ae-WDdAho8j"
      },
      "source": [
        "### 21. Faça um programa que receba uma hora formada por hora e minutos (um número real), calcule e mostre a hora digitada apenas em minutos. Lembre-se de que:\n",
        "* para quatro e meia, deve-se digitar 4.30;\n",
        "* os minutos vão de 0 a 59.\n",
        "      LEIA hora\n",
        "      h = pegar a parte inteira da variável hora\n",
        "      minutos = hora − h\n",
        "      conversao = (h * 60) + (minutos * 100)\n",
        "      ESCREVA conversao\n"
      ]
    },
    {
      "cell_type": "code",
      "metadata": {
        "id": "ePoxc4bohrQm",
        "colab": {
          "base_uri": "https://localhost:8080/"
        },
        "outputId": "b9728967-1cdc-41d9-a757-7a3ced53921f"
      },
      "source": [
        "hora = float(input('Digite o valor da hora: '))\n",
        "h = hora // 1\n",
        "minutos = hora - h\n",
        "conversao = (h * 60) + (minutos * 100)\n",
        "print('A hora me minutos é: ' ,conversao)"
      ],
      "execution_count": null,
      "outputs": [
        {
          "output_type": "stream",
          "name": "stdout",
          "text": [
            "Digite o valor da hora: 02.58\n",
            "A hora me minutos é:  178.0\n"
          ]
        }
      ]
    },
    {
      "cell_type": "markdown",
      "metadata": {
        "id": "-YjvNy_DhrZa"
      },
      "source": [
        "### 22. Faça um programa que receba o custo de um espetáculo teatral e o preço do convite desse espetáculo. Esse programa deverá calcular e mostrar a quantidade de convites que devem ser vendidos para que, pelo menos, o custo do espetáculo seja alcançado.\n"
      ]
    },
    {
      "cell_type": "code",
      "metadata": {
        "id": "55qawy58hsl0",
        "colab": {
          "base_uri": "https://localhost:8080/"
        },
        "outputId": "5d4a97a4-fdb9-4ff5-e4a9-5a74c1614c9a"
      },
      "source": [
        "custo_espetaculo = float(input('Digite o custo total para a produção do espetáculo em R$: '))\n",
        "preco_convite = float(input('Digite o preço dos convites de entrada para o teatro:' ))\n",
        "custo_cobertura = custo_espetaculo / preco_convite\n",
        "print('A quantidade de convites necessários vendidos para cobrir os gastos é: ' ,custo_cobertura)"
      ],
      "execution_count": null,
      "outputs": [
        {
          "output_type": "stream",
          "name": "stdout",
          "text": [
            "Digite o custo total para a produção do espetáculo em R$: 568200\n",
            "Digite o preço dos convites de entrada para o teatro:150\n",
            "A quantidade de convites necessários vendidos para cobrir os gastos é:  3788.0\n"
          ]
        }
      ]
    }
  ]
}