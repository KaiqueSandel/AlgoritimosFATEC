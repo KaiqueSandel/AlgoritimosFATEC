{
  "nbformat": 4,
  "nbformat_minor": 0,
  "metadata": {
    "colab": {
      "provenance": [],
      "include_colab_link": true
    },
    "kernelspec": {
      "name": "python3",
      "display_name": "Python 3"
    }
  },
  "cells": [
    {
      "cell_type": "markdown",
      "metadata": {
        "id": "view-in-github",
        "colab_type": "text"
      },
      "source": [
        "<a href=\"https://colab.research.google.com/github/KaiqueSandel/AlgoritimosFATEC/blob/main/AndresKaique_221_Est_Repeticao_n.ipynb\" target=\"_parent\"><img src=\"https://colab.research.google.com/assets/colab-badge.svg\" alt=\"Open In Colab\"/></a>"
      ]
    },
    {
      "cell_type": "markdown",
      "metadata": {
        "id": "TWJjhvldsGq1"
      },
      "source": [
        "#ESTRUTURA DE REPETIÇÃO\n",
        "##Todos estes algoritmos/programas podem ser implementados com o comando **while** ou **for**. Para estudar, implemente cada exercício com as **duas** estruturas de repetição."
      ]
    },
    {
      "cell_type": "markdown",
      "metadata": {
        "id": "ra2ortoj88ct"
      },
      "source": [
        "###1. Faça um algoritmo  que mostre 10 vezes a frase “Bem vindo a Fatec!”. Pode implementar com o comando while ou for."
      ]
    },
    {
      "cell_type": "code",
      "metadata": {
        "id": "w87cAtUi9P5j",
        "colab": {
          "base_uri": "https://localhost:8080/"
        },
        "outputId": "60cab9b5-51fa-4d65-8bec-ab33a81bc694"
      },
      "source": [
        "print('Usando o comando While')\n",
        "contagem = 1\n",
        "while contagem <= 10:\n",
        "    print('Bem vindo a Fatec!')\n",
        "    contagem = contagem + 1\n",
        "print('Usando o comando For')\n",
        "for contador in range(10) :\n",
        "    print('Bem vindo a Fatec!')"
      ],
      "execution_count": null,
      "outputs": [
        {
          "output_type": "stream",
          "name": "stdout",
          "text": [
            "Usando o comando While\n",
            "Bem vindo a Fatec!\n",
            "Bem vindo a Fatec!\n",
            "Bem vindo a Fatec!\n",
            "Bem vindo a Fatec!\n",
            "Bem vindo a Fatec!\n",
            "Bem vindo a Fatec!\n",
            "Bem vindo a Fatec!\n",
            "Bem vindo a Fatec!\n",
            "Bem vindo a Fatec!\n",
            "Bem vindo a Fatec!\n",
            "Usando o comando For\n",
            "Bem vindo a Fatec!\n",
            "Bem vindo a Fatec!\n",
            "Bem vindo a Fatec!\n",
            "Bem vindo a Fatec!\n",
            "Bem vindo a Fatec!\n",
            "Bem vindo a Fatec!\n",
            "Bem vindo a Fatec!\n",
            "Bem vindo a Fatec!\n",
            "Bem vindo a Fatec!\n",
            "Bem vindo a Fatec!\n"
          ]
        }
      ]
    },
    {
      "cell_type": "markdown",
      "metadata": {
        "id": "Tz26_Q_09QzZ"
      },
      "source": [
        "###2. Faça um algoritmo que mostre o cumprimento ‘Olá ‘ para o nome de alguém (4 pessoas). Exemplo ‘Olá Mariana’. Pode implementar com o comando while ou for.\n",
        ""
      ]
    },
    {
      "cell_type": "code",
      "metadata": {
        "id": "EK8e5Oxn9eFX",
        "colab": {
          "base_uri": "https://localhost:8080/"
        },
        "outputId": "548feedd-3366-40c9-d279-09376b4b6857"
      },
      "source": [
        "for contador in range(1):\n",
        "    print('Olá Gerzka-sama')\n",
        "for contador in range(1):\n",
        "    print('Olá Sr. Ars')\n",
        "for contador in range(1):\n",
        "    print('Olá Srta. Arsyn')\n",
        "for contador in range(1):\n",
        "    print('Olá Tyfam')"
      ],
      "execution_count": null,
      "outputs": [
        {
          "output_type": "stream",
          "name": "stdout",
          "text": [
            "Olá Gerzka-sama\n",
            "Olá Sr. Ars\n",
            "Olá Srta. Arsyn\n",
            "Olá Tyfam\n"
          ]
        }
      ]
    },
    {
      "cell_type": "markdown",
      "metadata": {
        "id": "-tIGmOam9eaB"
      },
      "source": [
        "###3. Faça um algoritmo que mostre os valores de 0 a 15. Pode implementar com o comando while ou for.\n"
      ]
    },
    {
      "cell_type": "code",
      "metadata": {
        "id": "PVFy9VEE9jy9",
        "colab": {
          "base_uri": "https://localhost:8080/"
        },
        "outputId": "5e7856fc-aa7a-48bc-bb86-929c723c5665"
      },
      "source": [
        "for contador in range(0,16):\n",
        "    print(contador)"
      ],
      "execution_count": null,
      "outputs": [
        {
          "output_type": "stream",
          "name": "stdout",
          "text": [
            "0\n",
            "1\n",
            "2\n",
            "3\n",
            "4\n",
            "5\n",
            "6\n",
            "7\n",
            "8\n",
            "9\n",
            "10\n",
            "11\n",
            "12\n",
            "13\n",
            "14\n",
            "15\n"
          ]
        }
      ]
    },
    {
      "cell_type": "markdown",
      "metadata": {
        "id": "n2GgpaGP9j-A"
      },
      "source": [
        "###4. Faça um algoritmo que mostre os valores de 3 a 20. Pode implementar com o comando while ou for.\n"
      ]
    },
    {
      "cell_type": "code",
      "metadata": {
        "id": "lqitidIO9rOm",
        "colab": {
          "base_uri": "https://localhost:8080/"
        },
        "outputId": "facd2977-ca9b-494f-9b14-59a37ae4abd4"
      },
      "source": [
        "for contador in range(3,21):\n",
        "    print(contador)"
      ],
      "execution_count": null,
      "outputs": [
        {
          "output_type": "stream",
          "name": "stdout",
          "text": [
            "3\n",
            "4\n",
            "5\n",
            "6\n",
            "7\n",
            "8\n",
            "9\n",
            "10\n",
            "11\n",
            "12\n",
            "13\n",
            "14\n",
            "15\n",
            "16\n",
            "17\n",
            "18\n",
            "19\n",
            "20\n"
          ]
        }
      ]
    },
    {
      "cell_type": "markdown",
      "metadata": {
        "id": "C8RRCFc_9sTL"
      },
      "source": [
        "###5. Faça um algoritmo que calcule e mostre a tabuada do 5. Pode implementar com o comando while ou for.\n"
      ]
    },
    {
      "cell_type": "code",
      "metadata": {
        "id": "4QBLg1ka91dV",
        "colab": {
          "base_uri": "https://localhost:8080/"
        },
        "outputId": "1a4e7299-45b3-485c-82f7-63c5d65d4b52"
      },
      "source": [
        "for cont in range(1,11):\n",
        "    print(f'5 x {cont}' '=' ,5 * cont)"
      ],
      "execution_count": null,
      "outputs": [
        {
          "output_type": "stream",
          "name": "stdout",
          "text": [
            "5 x 1= 5\n",
            "5 x 2= 10\n",
            "5 x 3= 15\n",
            "5 x 4= 20\n",
            "5 x 5= 25\n",
            "5 x 6= 30\n",
            "5 x 7= 35\n",
            "5 x 8= 40\n",
            "5 x 9= 45\n",
            "5 x 10= 50\n"
          ]
        }
      ]
    },
    {
      "cell_type": "markdown",
      "metadata": {
        "id": "nJv5jBoq91tW"
      },
      "source": [
        "###6. Faça um algoritmo que receba a idade de 10 pessoas, calcule e exiba a quantidade de pessoas maiores de idade, sendo que a maioridade é obtida após completar 18 anos. Pode implementar com o comando while ou for.\n"
      ]
    },
    {
      "cell_type": "code",
      "source": [
        "qtde_maior = 0\n",
        "for contador in range (10):\n",
        "    idade=int(input('Digite sua idade: '))\n",
        "    if idade >= 18:\n",
        "        qtde_maior = qtde_maior + 1\n",
        "print(f'O número de pessoas maiores de idade é {qtde_maior}')"
      ],
      "metadata": {
        "colab": {
          "base_uri": "https://localhost:8080/"
        },
        "id": "79Zg4Cm4FVzp",
        "outputId": "cab69246-0317-4c92-f3e4-589f9a9ffc12"
      },
      "execution_count": null,
      "outputs": [
        {
          "output_type": "stream",
          "name": "stdout",
          "text": [
            "Digite sua idade: 17\n",
            "Digite sua idade: 20\n",
            "Digite sua idade: 14\n",
            "Digite sua idade: 86\n",
            "Digite sua idade: 45\n",
            "Digite sua idade: 21\n",
            "Digite sua idade: 12\n",
            "Digite sua idade: 2\n",
            "Digite sua idade: 124\n",
            "Digite sua idade: 1\n",
            "O número de pessoas maiores de idade é 5\n"
          ]
        }
      ]
    },
    {
      "cell_type": "markdown",
      "metadata": {
        "id": "g5RA7KN896ep"
      },
      "source": [
        "###7. Escreva um algoritmo que receba 23 números, calcule e exiba a quantidade de números pares e impares. Pode implementar com o comando while ou for.\n"
      ]
    },
    {
      "cell_type": "code",
      "metadata": {
        "id": "JBnJiugI9_Q1",
        "colab": {
          "base_uri": "https://localhost:8080/"
        },
        "outputId": "78fbf9aa-ea0c-4511-e1f3-3b87a1102801"
      },
      "source": [
        "contador = 0\n",
        "qtde_pares = 0\n",
        "qtde_impares = 0\n",
        "while contador < 4:\n",
        "    n = int(input('Digite o número: '))\n",
        "    if n % 2 == 0:\n",
        "        qtde_pares = qtde_pares + 1\n",
        "    else:\n",
        "        qtde_impares = qtde_impares + 1\n",
        "\n",
        "    contador += 1\n",
        "print(f'Quantide de números pares {qtde_pares}')\n",
        "print(f'Quantide de números ímpares {qtde_impares}')"
      ],
      "execution_count": null,
      "outputs": [
        {
          "output_type": "stream",
          "name": "stdout",
          "text": [
            "Digite o número: 2\n",
            "Digite o número: 3\n",
            "Digite o número: 4\n",
            "Digite o número: 5\n",
            "Quantide de números pares 2\n",
            "Quantide de números ímpares 2\n"
          ]
        }
      ]
    },
    {
      "cell_type": "markdown",
      "metadata": {
        "id": "DVuRwa6J9_in"
      },
      "source": [
        "###8. Faça um algoritmo que calcule e exiba o salário reajustado de dez funcionários de acordo com a seguinte regra (pode implementar com o comando while ou for):\n",
        "## Salário até 300, reajuste de 50%;\n",
        "\n",
        "##Salários maiores que 300, reajuste de 30%.\n",
        "\n",
        "\n"
      ]
    },
    {
      "cell_type": "code",
      "metadata": {
        "id": "GnYXpwwH-Drd",
        "colab": {
          "base_uri": "https://localhost:8080/"
        },
        "outputId": "96029d8c-b553-4769-b648-3eea42f6661f"
      },
      "source": [
        "func = 0\n",
        "while func < 5:\n",
        "    salario = float(input('Digite seu sálario: R$'))\n",
        "    if salario <= 300:\n",
        "        reajuste = salario + salario / 2\n",
        "    elif salario >= 3001:\n",
        "        reajuste = salario + salario / 30/100\n",
        "    func = func + 1\n",
        "print('Salário reajustado de', (salario), \"recebe ajuste de\" ,(reajuste))"
      ],
      "execution_count": null,
      "outputs": [
        {
          "output_type": "stream",
          "name": "stdout",
          "text": [
            "Digite seu sálario: R$1246\n",
            "Digite seu sálario: R$1775\n",
            "Digite seu sálario: R$774\n",
            "Digite seu sálario: R$8954\n",
            "Digite seu sálario: R$125\n",
            "Salário reajustado de 125.0 recebe ajuste de 187.5\n"
          ]
        }
      ]
    },
    {
      "cell_type": "markdown",
      "metadata": {
        "id": "WWEunLW8-D2h"
      },
      "source": [
        "\n",
        "###9. Faça um algoritmo que conheça 4 preços de produtos, some-os e mostre o resultado. Pode implementar com o comando while ou for.\n"
      ]
    },
    {
      "cell_type": "code",
      "metadata": {
        "id": "N9cUIxJk-HLg",
        "colab": {
          "base_uri": "https://localhost:8080/"
        },
        "outputId": "3f959365-2ab0-42fe-90eb-ec470da5ab45"
      },
      "source": [
        "valores = 0\n",
        "soma_produtos = 0\n",
        "while valores < 4:\n",
        "    preco = float(input('Digite os preços dos produtos: R$'))\n",
        "    soma_produtos = soma_produtos + preco\n",
        "    valores = valores + 1\n",
        "print(f'O resultado da somas dos produtos é {soma_produtos}')"
      ],
      "execution_count": null,
      "outputs": [
        {
          "output_type": "stream",
          "name": "stdout",
          "text": [
            "Digite os preços dos produtos: R$88\n",
            "Digite os preços dos produtos: R$88\n",
            "Digite os preços dos produtos: R$88\n",
            "Digite os preços dos produtos: R$88\n",
            "O resultado da somas dos produtos é 352.0\n"
          ]
        }
      ]
    },
    {
      "cell_type": "markdown",
      "metadata": {
        "id": "rf_lUW8J-HbR"
      },
      "source": [
        "###10. Faça um algoritmo que calcule e informe a média de idades de 5 alunos. Pode implementar com o comando while ou for."
      ]
    },
    {
      "cell_type": "code",
      "metadata": {
        "id": "kIGzHgii-Teb",
        "colab": {
          "base_uri": "https://localhost:8080/"
        },
        "outputId": "fc2155e1-eeef-445b-a9cc-bf7e11891d91"
      },
      "source": [
        "id = 0\n",
        "soma_idades=  0\n",
        "while id < 5:\n",
        "    idade = int(input('Informe sua idade: '))\n",
        "    soma_idades = soma_idades + idade\n",
        "    id = id + 1\n",
        "media_idades = soma_idades / id\n",
        "print(f'A média de idades entre os alunos é {media_idades}')"
      ],
      "execution_count": null,
      "outputs": [
        {
          "output_type": "stream",
          "name": "stdout",
          "text": [
            "Informe sua idade: 17\n",
            "Informe sua idade: 22\n",
            "Informe sua idade: 78\n",
            "Informe sua idade: 5\n",
            "Informe sua idade: 44\n",
            "A média de idades entre os alunos é 33.2\n"
          ]
        }
      ]
    },
    {
      "cell_type": "markdown",
      "metadata": {
        "id": "cTQOtgv8-TqZ"
      },
      "source": [
        "###11. Faça um algoritmo que conheça 4 preços de produtos, calcule e mostre a média aritmética dos preços. Pode implementar com o comando while ou for.\n"
      ]
    },
    {
      "cell_type": "code",
      "metadata": {
        "id": "1jGiDIq--XfE",
        "colab": {
          "base_uri": "https://localhost:8080/"
        },
        "outputId": "cd017b40-aaa5-4c04-de20-be12a7edb2d7"
      },
      "source": [
        "valores = 0\n",
        "soma_produtos = 0\n",
        "while valores < 4:\n",
        "    preco = float(input('Digite os preços dos produtos: R$'))\n",
        "    soma_produtos = soma_produtos + preco\n",
        "    valores = valores + 1\n",
        "media = soma_produtos / valores\n",
        "print(f'O resultada da média dos produtos é R${media}')"
      ],
      "execution_count": null,
      "outputs": [
        {
          "output_type": "stream",
          "name": "stdout",
          "text": [
            "Digite os preços dos produtos: R$1200\n",
            "Digite os preços dos produtos: R$850\n",
            "Digite os preços dos produtos: R$890\n",
            "Digite os preços dos produtos: R$220\n",
            "O resultada da média dos produtos é R$790.0\n"
          ]
        }
      ]
    },
    {
      "cell_type": "markdown",
      "source": [
        "###12. Faça um programa que receba a idade e a altura de 20 pessoas. Calcule e exiba a média das alturas das pessoas com mais de 20 anos.\n",
        "\n",
        "\n"
      ],
      "metadata": {
        "id": "q2aJm6ktRIKX"
      }
    },
    {
      "cell_type": "code",
      "source": [
        "cont = 0\n",
        "cont20 = 0\n",
        "soma_alturas = 0\n",
        "while cont < 20:\n",
        "    idade = int(input('Informe sua idade: '))\n",
        "    altura = float(input('Informe sua altura: '))\n",
        "    if idade > 20:\n",
        "        soma_alturas = soma_alturas + altura\n",
        "        cont20 = cont20 + 1\n",
        "    cont = cont + 1\n",
        "media = soma_alturas / cont20\n",
        "print(f'A média das alturas dos individuos maiores de 20 anos é {media:.2f} metros')"
      ],
      "metadata": {
        "id": "BrL7c0SiReMX",
        "colab": {
          "base_uri": "https://localhost:8080/"
        },
        "outputId": "ea04f19e-22c4-43bb-d6bf-d9006a6ff38e"
      },
      "execution_count": null,
      "outputs": [
        {
          "output_type": "stream",
          "name": "stdout",
          "text": [
            "Informe sua idade: 22\n",
            "Informe sua altura: 1.8\n",
            "Informe sua idade: 14\n",
            "Informe sua altura: 2.1\n",
            "Informe sua idade: 14\n",
            "Informe sua altura: 1.5\n",
            "Informe sua idade: 15\n",
            "Informe sua altura: 1.98\n",
            "Informe sua idade: 25\n",
            "Informe sua altura: 2.45\n",
            "Informe sua idade: 9\n",
            "Informe sua altura: 1.15\n",
            "Informe sua idade: 44\n",
            "Informe sua altura: 1.45\n",
            "Informe sua idade: 78\n",
            "Informe sua altura: 1.3\n",
            "Informe sua idade: 45\n",
            "Informe sua altura: 15\n",
            "Informe sua idade: 12\n",
            "Informe sua altura: 1.5\n",
            "Informe sua idade: 18\n",
            "Informe sua altura: 2.1\n",
            "Informe sua idade: 25\n",
            "Informe sua altura: 1.5\n",
            "Informe sua idade: 21\n",
            "Informe sua altura: 2.2\n",
            "Informe sua idade: 12\n",
            "Informe sua altura: 2.2\n",
            "Informe sua idade: 15\n",
            "Informe sua altura: 1.5\n",
            "Informe sua idade: 125\n",
            "Informe sua altura: 1.5\n",
            "Informe sua idade: 12\n",
            "Informe sua altura: 1.5\n",
            "Informe sua idade: 12\n",
            "Informe sua altura: 1.2\n",
            "Informe sua idade: 15\n",
            "Informe sua altura: 1.5\n",
            "Informe sua idade: 15\n",
            "Informe sua altura: 1.5\n",
            "A média das alturas dos individuos maiores de 20 anos é 3.40 metros\n"
          ]
        }
      ]
    },
    {
      "cell_type": "markdown",
      "metadata": {
        "id": "aI4IjOYw-XwG"
      },
      "source": [
        "###13. Faça um algoritmo que leia o preço de 20 TV, determine e apresente a média dos preços que possuem valor maior que R$ 1000. Pode implementar com o comando while ou for."
      ]
    },
    {
      "cell_type": "code",
      "source": [
        "valores = 0\n",
        "valores1 = 0\n",
        "soma_produtos = 0\n",
        "while valores < 5:\n",
        "    preco = float(input('Digite os preços dos produtos: R$'))\n",
        "    if preco > 1000:\n",
        "        soma_produtos = soma_produtos + preco\n",
        "        valores1 = valores1 + 1\n",
        "    valores = valores + 1\n",
        "media = soma_produtos / valores1\n",
        "print(f'O resultado da média dos produtos é R${media}')"
      ],
      "metadata": {
        "id": "0YxUWj8KQriq",
        "colab": {
          "base_uri": "https://localhost:8080/"
        },
        "outputId": "0b435863-8b34-4366-b6af-4d132037cbc7"
      },
      "execution_count": null,
      "outputs": [
        {
          "output_type": "stream",
          "name": "stdout",
          "text": [
            "Digite os preços dos produtos: R$2000\n",
            "Digite os preços dos produtos: R$1200\n",
            "Digite os preços dos produtos: R$780\n",
            "Digite os preços dos produtos: R$4000\n",
            "Digite os preços dos produtos: R$5100\n",
            "O resultado da média dos produtos é R$3075.0\n"
          ]
        }
      ]
    },
    {
      "cell_type": "markdown",
      "source": [
        "###14. Faça um programa que calcule e apresente as tabuadas do 3 ao 7. Este exercício utiliza DUAS estruturas de repetição."
      ],
      "metadata": {
        "id": "wJ0MVHDlQrNb"
      }
    },
    {
      "cell_type": "code",
      "source": [
        "tabuada = 3\n",
        "while tabuada <= 7:\n",
        "    for cont in range(1,11):\n",
        "        print(tabuada, 'x' ,cont, '=' , tabuada * cont)\n",
        "    print()\n",
        "    tabuada = tabuada + 1\n"
      ],
      "metadata": {
        "colab": {
          "base_uri": "https://localhost:8080/"
        },
        "id": "qGF1MZJZTfwK",
        "outputId": "f67fe9fa-87ff-433d-dea6-6e796280f5d6"
      },
      "execution_count": null,
      "outputs": [
        {
          "output_type": "stream",
          "name": "stdout",
          "text": [
            "3 x 1 = 3\n",
            "3 x 2 = 6\n",
            "3 x 3 = 9\n",
            "3 x 4 = 12\n",
            "3 x 5 = 15\n",
            "3 x 6 = 18\n",
            "3 x 7 = 21\n",
            "3 x 8 = 24\n",
            "3 x 9 = 27\n",
            "3 x 10 = 30\n",
            "\n",
            "4 x 1 = 4\n",
            "4 x 2 = 8\n",
            "4 x 3 = 12\n",
            "4 x 4 = 16\n",
            "4 x 5 = 20\n",
            "4 x 6 = 24\n",
            "4 x 7 = 28\n",
            "4 x 8 = 32\n",
            "4 x 9 = 36\n",
            "4 x 10 = 40\n",
            "\n",
            "5 x 1 = 5\n",
            "5 x 2 = 10\n",
            "5 x 3 = 15\n",
            "5 x 4 = 20\n",
            "5 x 5 = 25\n",
            "5 x 6 = 30\n",
            "5 x 7 = 35\n",
            "5 x 8 = 40\n",
            "5 x 9 = 45\n",
            "5 x 10 = 50\n",
            "\n",
            "6 x 1 = 6\n",
            "6 x 2 = 12\n",
            "6 x 3 = 18\n",
            "6 x 4 = 24\n",
            "6 x 5 = 30\n",
            "6 x 6 = 36\n",
            "6 x 7 = 42\n",
            "6 x 8 = 48\n",
            "6 x 9 = 54\n",
            "6 x 10 = 60\n",
            "\n",
            "7 x 1 = 7\n",
            "7 x 2 = 14\n",
            "7 x 3 = 21\n",
            "7 x 4 = 28\n",
            "7 x 5 = 35\n",
            "7 x 6 = 42\n",
            "7 x 7 = 49\n",
            "7 x 8 = 56\n",
            "7 x 9 = 63\n",
            "7 x 10 = 70\n",
            "\n"
          ]
        }
      ]
    },
    {
      "cell_type": "code",
      "metadata": {
        "id": "QRC-wB1g-ceV",
        "colab": {
          "base_uri": "https://localhost:8080/"
        },
        "outputId": "003dfe5e-f6ce-43f7-9bd1-c470cb0a8d19"
      },
      "source": [
        "for tabuada in range(3,8):\n",
        "    for cont in range(1,11):\n",
        "        print(tabuada, 'x' ,cont, '=' , tabuada * cont)\n",
        "\n",
        ""
      ],
      "execution_count": null,
      "outputs": [
        {
          "output_type": "stream",
          "name": "stdout",
          "text": [
            "3 x 1 = 3\n",
            "3 x 2 = 6\n",
            "3 x 3 = 9\n",
            "3 x 4 = 12\n",
            "3 x 5 = 15\n",
            "3 x 6 = 18\n",
            "3 x 7 = 21\n",
            "3 x 8 = 24\n",
            "3 x 9 = 27\n",
            "3 x 10 = 30\n",
            "4 x 1 = 4\n",
            "4 x 2 = 8\n",
            "4 x 3 = 12\n",
            "4 x 4 = 16\n",
            "4 x 5 = 20\n",
            "4 x 6 = 24\n",
            "4 x 7 = 28\n",
            "4 x 8 = 32\n",
            "4 x 9 = 36\n",
            "4 x 10 = 40\n",
            "5 x 1 = 5\n",
            "5 x 2 = 10\n",
            "5 x 3 = 15\n",
            "5 x 4 = 20\n",
            "5 x 5 = 25\n",
            "5 x 6 = 30\n",
            "5 x 7 = 35\n",
            "5 x 8 = 40\n",
            "5 x 9 = 45\n",
            "5 x 10 = 50\n",
            "6 x 1 = 6\n",
            "6 x 2 = 12\n",
            "6 x 3 = 18\n",
            "6 x 4 = 24\n",
            "6 x 5 = 30\n",
            "6 x 6 = 36\n",
            "6 x 7 = 42\n",
            "6 x 8 = 48\n",
            "6 x 9 = 54\n",
            "6 x 10 = 60\n",
            "7 x 1 = 7\n",
            "7 x 2 = 14\n",
            "7 x 3 = 21\n",
            "7 x 4 = 28\n",
            "7 x 5 = 35\n",
            "7 x 6 = 42\n",
            "7 x 7 = 49\n",
            "7 x 8 = 56\n",
            "7 x 9 = 63\n",
            "7 x 10 = 70\n"
          ]
        }
      ]
    },
    {
      "cell_type": "markdown",
      "source": [
        "###15. Faça um programa para o curso de ADS (6 módulos), cada sala tem 30 alunos, calcule e apresente os seguintes itens:\n",
        "*  Quantidade de homens e mulheres de cada módulo;\n",
        "*  Média de idades de cada módulo;\n",
        "*  Quantidade de homens e mulheres do curso todo;\n",
        "*  Média de idades do curso todo.\n",
        "\n",
        "Observação: este exercício utiliza DUAS estruturas de repetição."
      ],
      "metadata": {
        "id": "wu3gKhw_P-t2"
      }
    },
    {
      "cell_type": "code",
      "source": [
        "contm = 0\n",
        "contf = 0\n",
        "idade = 0\n",
        "soma_idade = 0\n",
        "soma_i_total = 0\n",
        "soma_medias = 0\n",
        "media_sala = 0\n",
        "soma_idades = 0\n",
        "contm_total = 0\n",
        "contf_total = 0\n",
        "for modulo in range(3):\n",
        "    for alunos in range(3):\n",
        "        sexo = str(input('Digite o sexo: '))\n",
        "        if sexo == \"M\" or sexo == 'm':\n",
        "            contm = contm + 1\n",
        "        elif sexo == 'F' or sexo == 'f,':\n",
        "            contf = contf + 1\n",
        "        idade = int(input('Digite a idade: '))\n",
        "        soma_idade = soma_idade + idade\n",
        "        soma_i_total = soma_i_total + soma_idade\n",
        "        media_sala = soma_i_total / 2\n",
        "        soma_idade = 0\n",
        "    contm_total =  contm_total + contm\n",
        "    contf_total = contf_total + contf\n",
        "    soma_medias = soma_medias + media_sala\n",
        "    print(f'A quantidade de homens nesse modulo é {contm}')\n",
        "    print(f'A quantidade de mulheres nesse modulo é {contf}')\n",
        "    print(f'A media de idade nesse modulo é de {media_sala}')\n",
        "    soma_idade = 0\n",
        "    contm = 0\n",
        "    contf = 0\n",
        "media_total = soma_medias / 2\n",
        "print(' ')\n",
        "print(f'A quantidade de homens no curso todo é {contm_total}')\n",
        "print(f'A quantidade de mulheres no curso todo é {contf_total}')\n",
        "print(f'a media de idade no curso inteiro é {media_total}')"
      ],
      "metadata": {
        "id": "lBhG5qbYQJaS",
        "colab": {
          "base_uri": "https://localhost:8080/"
        },
        "outputId": "033cf262-87c6-4a46-e759-b0b88003c514"
      },
      "execution_count": null,
      "outputs": [
        {
          "output_type": "stream",
          "name": "stdout",
          "text": [
            "Digite o sexo: m\n",
            "Digite a idade: 19\n",
            "Digite o sexo: m\n",
            "Digite a idade: 27\n",
            "Digite o sexo: m\n",
            "Digite a idade: 25\n",
            "A quantidade de homens nesse modulo é 3\n",
            "A quantidade de mulheres nesse modulo é 0\n",
            "A media de idade nesse modulo é de 35.5\n",
            "Digite o sexo: f\n",
            "Digite a idade: 49\n",
            "Digite o sexo: f\n",
            "Digite a idade: 22\n",
            "Digite o sexo: m\n",
            "Digite a idade: 18\n",
            "A quantidade de homens nesse modulo é 1\n",
            "A quantidade de mulheres nesse modulo é 0\n",
            "A media de idade nesse modulo é de 80.0\n",
            "Digite o sexo: m\n",
            "Digite a idade: 47\n",
            "Digite o sexo: m\n",
            "Digite a idade: 44\n",
            "Digite o sexo: m\n",
            "Digite a idade: 21\n",
            "A quantidade de homens nesse modulo é 3\n",
            "A quantidade de mulheres nesse modulo é 0\n",
            "A media de idade nesse modulo é de 136.0\n",
            " \n",
            "A quantidade de homens no curso todo é 7\n",
            "A quantidade de mulheres no curso todo é 0\n",
            "a media de idade no curso inteiro é 125.75\n"
          ]
        }
      ]
    }
  ]
}